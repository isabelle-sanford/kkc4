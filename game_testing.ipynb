{
 "cells": [
  {
   "cell_type": "code",
   "execution_count": 1,
   "metadata": {},
   "outputs": [
    {
     "ename": "TypeError",
     "evalue": "ActionType.__new__() missing 1 required positional argument: 'info'",
     "output_type": "error",
     "traceback": [
      "\u001b[0;31m---------------------------------------------------------------------------\u001b[0m",
      "\u001b[0;31mTypeError\u001b[0m                                 Traceback (most recent call last)",
      "Cell \u001b[0;32mIn[1], line 1\u001b[0m\n\u001b[0;32m----> 1\u001b[0m \u001b[39mfrom\u001b[39;00m \u001b[39mgame_run\u001b[39;00m \u001b[39mimport\u001b[39;00m Turn, Game\n\u001b[1;32m      2\u001b[0m \u001b[39mfrom\u001b[39;00m \u001b[39mstatics\u001b[39;00m \u001b[39mimport\u001b[39;00m Lodging, Background\n\u001b[1;32m      3\u001b[0m \u001b[39mfrom\u001b[39;00m \u001b[39mfield\u001b[39;00m \u001b[39mimport\u001b[39;00m FieldName, FIELDS\n",
      "File \u001b[0;32m~/projects/se-kkc/kkc4/game_run.py:3\u001b[0m\n\u001b[1;32m      1\u001b[0m \u001b[39mimport\u001b[39;00m \u001b[39mcopy\u001b[39;00m\n\u001b[1;32m      2\u001b[0m \u001b[39mimport\u001b[39;00m \u001b[39mrandom\u001b[39;00m\n\u001b[0;32m----> 3\u001b[0m \u001b[39mfrom\u001b[39;00m \u001b[39mfield\u001b[39;00m \u001b[39mimport\u001b[39;00m FieldStatus, FIELDS\n\u001b[1;32m      4\u001b[0m \u001b[39mfrom\u001b[39;00m \u001b[39mhorns\u001b[39;00m \u001b[39mimport\u001b[39;00m Horns\n\u001b[1;32m      5\u001b[0m \u001b[39mfrom\u001b[39;00m \u001b[39mitems\u001b[39;00m \u001b[39mimport\u001b[39;00m Item, ItemType\n",
      "File \u001b[0;32m~/projects/se-kkc/kkc4/field.py:11\u001b[0m\n\u001b[1;32m      9\u001b[0m     \u001b[39mfrom\u001b[39;00m \u001b[39mplayer\u001b[39;00m \u001b[39mimport\u001b[39;00m Player\n\u001b[1;32m     10\u001b[0m \u001b[39mfrom\u001b[39;00m \u001b[39menum\u001b[39;00m \u001b[39mimport\u001b[39;00m Enum, IntEnum\n\u001b[0;32m---> 11\u001b[0m \u001b[39mfrom\u001b[39;00m \u001b[39mactioninfo\u001b[39;00m \u001b[39mimport\u001b[39;00m Target\n\u001b[1;32m     13\u001b[0m \u001b[39m# want to use Ability2 (currently in actioninfo)\u001b[39;00m\n\u001b[1;32m     14\u001b[0m \u001b[39mclass\u001b[39;00m \u001b[39mAbility\u001b[39;00m:\n",
      "File \u001b[0;32m~/projects/se-kkc/kkc4/actioninfo.py:74\u001b[0m\n\u001b[1;32m     71\u001b[0m sabotage \u001b[39m=\u001b[39m ActionInfo(\u001b[39m41\u001b[39m, \u001b[39m\"\u001b[39m\u001b[39mSabotage\u001b[39m\u001b[39m\"\u001b[39m, ActionCategory\u001b[39m.\u001b[39mOFFENSIVE, Target\u001b[39m.\u001b[39mPLAYER, is_negative\u001b[39m=\u001b[39m\u001b[39mTrue\u001b[39;00m)\n\u001b[1;32m     73\u001b[0m \u001b[39m# TODO \u001b[39;00m\n\u001b[0;32m---> 74\u001b[0m \u001b[39mclass\u001b[39;00m \u001b[39mActionType\u001b[39;00m(Enum):\n\u001b[1;32m     75\u001b[0m     \u001b[39m# isn't there a way to generate enums instead of having to have them all here like this? \u001b[39;00m\n\u001b[1;32m     76\u001b[0m     HandDelivery \u001b[39m=\u001b[39m \u001b[39m1\u001b[39m, hand_delivery\n\u001b[1;32m     77\u001b[0m     MysteriousBulletins \u001b[39m=\u001b[39m \u001b[39m2\u001b[39m, myst_bulletins\n",
      "File \u001b[0;32m/usr/lib/python3.10/enum.py:289\u001b[0m, in \u001b[0;36mEnumMeta.__new__\u001b[0;34m(metacls, cls, bases, classdict, **kwds)\u001b[0m\n\u001b[1;32m    287\u001b[0m         enum_member\u001b[39m.\u001b[39m_value_ \u001b[39m=\u001b[39m value\n\u001b[1;32m    288\u001b[0m \u001b[39melse\u001b[39;00m:\n\u001b[0;32m--> 289\u001b[0m     enum_member \u001b[39m=\u001b[39m \u001b[39m__new__\u001b[39;49m(enum_class, \u001b[39m*\u001b[39;49margs)\n\u001b[1;32m    290\u001b[0m     \u001b[39mif\u001b[39;00m \u001b[39mnot\u001b[39;00m \u001b[39mhasattr\u001b[39m(enum_member, \u001b[39m'\u001b[39m\u001b[39m_value_\u001b[39m\u001b[39m'\u001b[39m):\n\u001b[1;32m    291\u001b[0m         \u001b[39mif\u001b[39;00m member_type \u001b[39mis\u001b[39;00m \u001b[39mobject\u001b[39m:\n",
      "\u001b[0;31mTypeError\u001b[0m: ActionType.__new__() missing 1 required positional argument: 'info'"
     ]
    }
   ],
   "source": [
    "from game_run import Turn, Game\n",
    "from statics import Lodging, Background\n",
    "from field import FieldName, FIELDS\n",
    "from items import ItemType\n",
    "from player import PlayerChoices\n",
    "from actions import ActionType"
   ]
  },
  {
   "cell_type": "code",
   "execution_count": null,
   "metadata": {},
   "outputs": [],
   "source": [
    "# Player Initialization\n",
    "\n",
    "# todo get inputs from html page \n",
    "\n",
    "input0 = {\n",
    "    \"player_name\": \"Kas\",\n",
    "    \"player_rpname\": \"Khas\",\n",
    "    \"is_evil\": False,\n",
    "    \"background\": Background.Vint,\n",
    "    \"lodging\": Lodging.HorseAndFour,\n",
    "    \"musical_stat\": 12,\n",
    "    \"ep1\": (FieldName.RHETORICLOGIC, 7),\n",
    "    \"ep2\": None,\n",
    "    \"inventory\": None\n",
    "}\n",
    "\n",
    "input1 = {\n",
    "    \"player_name\": \"El\",\n",
    "    \"player_rpname\": \"Elle\",\n",
    "    \"is_evil\": True,\n",
    "    \"background\": Background.Ruh,\n",
    "    \"lodging\": Lodging.Ankers,\n",
    "    \"musical_stat\": 8,\n",
    "    \"ep1\": (FieldName.RHETORICLOGIC, 1),\n",
    "    \"ep2\": (FieldName.LINGUISTICS, 1),\n",
    "    \"inventory\": None\n",
    "}\n",
    "\n",
    "input2 = {\n",
    "    \"player_name\": \"Haelbarde\",\n",
    "    \"player_rpname\": \"Halle\",\n",
    "    \"is_evil\": True,\n",
    "    \"background\": Background.Aturan,\n",
    "    \"lodging\": Lodging.WindyTower,\n",
    "    \"musical_stat\": 5,\n",
    "    \"ep1\": (FieldName.NAMING, 2),\n",
    "    \"ep2\": None,\n",
    "    \"inventory\": None\n",
    "}\n",
    "\n",
    "input3 = {\n",
    "    \"player_name\": \"Wilson\",\n",
    "    \"player_rpname\": \"Will\",\n",
    "    \"is_evil\": False,\n",
    "    \"background\": Background.Ceald,\n",
    "    \"lodging\": Lodging.KingsDrab,\n",
    "    \"musical_stat\": 7,\n",
    "    \"ep1\": (FieldName.ALCHEMY, 1),\n",
    "    \"ep2\": (FieldName.ARTIFICERY, 1),\n",
    "    \"inventory\": ItemType.NAHLROUT\n",
    "}\n",
    "\n",
    "input4 = {\n",
    "    \"player_name\": \"Devotary\",\n",
    "    \"player_rpname\": \"devdev\",\n",
    "    \"is_evil\": False,\n",
    "    \"background\": Background.Yll,\n",
    "    \"lodging\": Lodging.GoldenPony,\n",
    "    \"musical_stat\": 8,\n",
    "    \"ep1\": (FieldName.SYMPATHY, 1),\n",
    "    \"ep2\": (FieldName.PHYSICKING, 1),\n",
    "    \"inventory\": ItemType.BLOODLESS\n",
    "}\n",
    "\n",
    "INPUTS = [input0, input1, input2, input3, input4]"
   ]
  },
  {
   "cell_type": "code",
   "execution_count": null,
   "metadata": {},
   "outputs": [],
   "source": [
    "g = Game()"
   ]
  },
  {
   "cell_type": "code",
   "execution_count": null,
   "metadata": {},
   "outputs": [
    {
     "name": "stdout",
     "output_type": "stream",
     "text": [
      "[Kas (Vintish Nobleman Student Rank.NONE), El (Edema Ruh Skindancer Rank.NONE), Haelbarde (Aturan Nobleman Skindancer Rank.NONE), Wilson (Cealdish Commoner Student Rank.NONE), Devotary (Yllish Commoner Student Rank.NONE)]\n"
     ]
    }
   ],
   "source": [
    "g.start_game(INPUTS)\n",
    "\n",
    "print(g.players)"
   ]
  },
  {
   "cell_type": "code",
   "execution_count": null,
   "metadata": {},
   "outputs": [
    {
     "name": "stdout",
     "output_type": "stream",
     "text": [
      "Player: Kas (Khas) - Vintish Nobleman - Student\n",
      "| Lin | Ari | R&L | Arc | Sym | Phy | Alc | Art | Nam |\n",
      "|  1  |  0  |  8  |  0  |  2  |  0  |  1  |  1  |  2  |\n",
      "\n",
      "Player: El (Elle) - Edema Ruh - Skindancer\n",
      "| Lin | Ari | R&L | Arc | Sym | Phy | Alc | Art | Nam |\n",
      "|  1  |  0  |  8  |  0  |  2  |  0  |  1  |  1  |  2  |\n",
      "\n",
      "Player: Haelbarde (Halle) - Aturan Nobleman - Skindancer\n",
      "| Lin | Ari | R&L | Arc | Sym | Phy | Alc | Art | Nam |\n",
      "|  1  |  0  |  8  |  0  |  2  |  0  |  1  |  1  |  2  |\n",
      "\n",
      "Player: Wilson (Will) - Cealdish Commoner - Student\n",
      "| Lin | Ari | R&L | Arc | Sym | Phy | Alc | Art | Nam |\n",
      "|  1  |  0  |  8  |  0  |  2  |  0  |  1  |  1  |  2  |\n",
      "\n",
      "Player: Devotary (devdev) - Yllish Commoner - Student\n",
      "| Lin | Ari | R&L | Arc | Sym | Phy | Alc | Art | Nam |\n",
      "|  1  |  0  |  8  |  0  |  2  |  0  |  1  |  1  |  2  |\n",
      "\n"
     ]
    }
   ],
   "source": [
    "for p in g.players:\n",
    "    print(p)"
   ]
  },
  {
   "cell_type": "code",
   "execution_count": null,
   "metadata": {},
   "outputs": [],
   "source": [
    "# Month 1 - players make choices, complaints\n",
    "\n",
    "# create choice objects\n",
    "# CHOICESM1 = []\n",
    "# for player in PLAYERS:\n",
    "#     choice = PlayerChoices(player.info)\n",
    "#     CHOICESM1.append(choice)\n",
    "#     player.choice = choice\n",
    "\n",
    "# todo get choices from player webpages \n",
    "\n",
    "choices0 = {\n",
    "    \"player\": 0, # id, for now just list index \n",
    "    \"imre_next\": False,\n",
    "    #\"complaints\": [3, 3],\n",
    "    \"actions\": None, # or []?\n",
    "    \"EP\": [FieldName.RHETORICLOGIC, FieldName.RHETORICLOGIC, FieldName.RHETORICLOGIC, FieldName.RHETORICLOGIC, FieldName.RHETORICLOGIC] # todo check appropriate amt somewhere\n",
    "}\n",
    "\n",
    "choices1 = {\n",
    "    \"player\": 1,\n",
    "    \"imre_next\": False,\n",
    "    #\"complaints\": [3, 2],\n",
    "    \"actions\": [{\n",
    "        \"action_type\": ActionType.Sabotage,\n",
    "        \"target\": 4, # is index ok even tho ref varies?\n",
    "        \"target2\": None\n",
    "    }],\n",
    "    \"EP\": [FieldName.ALCHEMY, FieldName.ALCHEMY, FieldName.SYMPATHY, FieldName.SYMPATHY, FieldName.ALCHEMY]\n",
    "}\n",
    "\n",
    "choices2 = {\n",
    "    \"player\": 2,\n",
    "    \"imre_next\": True,\n",
    "    #\"complaints\": [0, 3],\n",
    "    \"actions\": None,\n",
    "    \"EP\": [FieldName.LINGUISTICS, FieldName.LINGUISTICS, FieldName.LINGUISTICS, FieldName.LINGUISTICS, FieldName.LINGUISTICS]\n",
    "}\n",
    "\n",
    "choices3 = {\n",
    "    \"player\": 3,\n",
    "    \"imre_next\": True,\n",
    "    #\"complaints\": [2, 2],\n",
    "    \"actions\": None,\n",
    "    \"EP\": [FieldName.NAMING, FieldName.NAMING, FieldName.NAMING, FieldName.NAMING, FieldName.NAMING]\n",
    "}\n",
    "\n",
    "choices4 = {\n",
    "    \"player\": 4,\n",
    "    \"imre_next\": False,\n",
    "    #\"complaints\": [0, 2],\n",
    "    \"actions\": None,\n",
    "    \"EP\": [FieldName.ALCHEMY, FieldName.ALCHEMY, FieldName.ALCHEMY, FieldName.ALCHEMY, FieldName.ALCHEMY]\n",
    "}\n",
    "\n",
    "CHOICESM1INPUT = [choices0, choices1, choices2, choices3, choices4]"
   ]
  },
  {
   "cell_type": "code",
   "execution_count": 7,
   "metadata": {},
   "outputs": [
    {
     "ename": "AttributeError",
     "evalue": "'ActionType' object has no attribute 'category'",
     "output_type": "error",
     "traceback": [
      "\u001b[0;31m---------------------------------------------------------------------------\u001b[0m",
      "\u001b[0;31mAttributeError\u001b[0m                            Traceback (most recent call last)",
      "Cell \u001b[0;32mIn[7], line 1\u001b[0m\n\u001b[0;32m----> 1\u001b[0m g\u001b[39m.\u001b[39;49mupdate_choices(CHOICESM1INPUT)\n",
      "File \u001b[0;32m~/projects/se-kkc/kkc4/game_run.py:90\u001b[0m, in \u001b[0;36mGame.update_choices\u001b[0;34m(self, new_choices)\u001b[0m\n\u001b[1;32m     87\u001b[0m \u001b[39mif\u001b[39;00m choice[\u001b[39m\"\u001b[39m\u001b[39mactions\u001b[39m\u001b[39m\"\u001b[39m]:\n\u001b[1;32m     88\u001b[0m     \u001b[39mfor\u001b[39;00m a \u001b[39min\u001b[39;00m choice[\u001b[39m\"\u001b[39m\u001b[39mactions\u001b[39m\u001b[39m\"\u001b[39m]:\n\u001b[0;32m---> 90\u001b[0m         \u001b[39mself\u001b[39;49m\u001b[39m.\u001b[39;49madd_action(c\u001b[39m.\u001b[39;49mid, a)\n",
      "File \u001b[0;32m~/projects/se-kkc/kkc4/game_run.py:71\u001b[0m, in \u001b[0;36mGame.add_action\u001b[0;34m(self, player_id, action_info)\u001b[0m\n\u001b[1;32m     68\u001b[0m \u001b[39mif\u001b[39;00m \u001b[39m\"\u001b[39m\u001b[39mtarget_two\u001b[39m\u001b[39m\"\u001b[39m \u001b[39min\u001b[39;00m action_info:\n\u001b[1;32m     69\u001b[0m     t2 \u001b[39m=\u001b[39m action_info[\u001b[39m\"\u001b[39m\u001b[39mtarget_two\u001b[39m\u001b[39m\"\u001b[39m]\n\u001b[0;32m---> 71\u001b[0m a \u001b[39m=\u001b[39m Action(p, action_info[\u001b[39m\"\u001b[39;49m\u001b[39maction_type\u001b[39;49m\u001b[39m\"\u001b[39;49m], action_info[\u001b[39m\"\u001b[39;49m\u001b[39mtarget\u001b[39;49m\u001b[39m\"\u001b[39;49m], t2)\n\u001b[1;32m     73\u001b[0m p\u001b[39m.\u001b[39mtake_action(a)\n",
      "File \u001b[0;32m~/projects/se-kkc/kkc4/actions.py:92\u001b[0m, in \u001b[0;36mAction.__init__\u001b[0;34m(self, player, type, target, target_two, level, item)\u001b[0m\n\u001b[1;32m     89\u001b[0m \u001b[39mself\u001b[39m\u001b[39m.\u001b[39mplayer \u001b[39m=\u001b[39m player \u001b[39m# Player taking the action\u001b[39;00m\n\u001b[1;32m     91\u001b[0m \u001b[39mself\u001b[39m\u001b[39m.\u001b[39mtype: ActionInfo \u001b[39m=\u001b[39m \u001b[39mtype\u001b[39m \n\u001b[0;32m---> 92\u001b[0m \u001b[39mself\u001b[39m\u001b[39m.\u001b[39mcategory: ActionCategory \u001b[39m=\u001b[39m \u001b[39mtype\u001b[39;49m\u001b[39m.\u001b[39;49mcategory\n\u001b[1;32m     93\u001b[0m \u001b[39mself\u001b[39m\u001b[39m.\u001b[39mtarget \u001b[39m=\u001b[39m target\n\u001b[1;32m     94\u001b[0m \u001b[39mself\u001b[39m\u001b[39m.\u001b[39mtarget_two \u001b[39m=\u001b[39m target_two\n",
      "\u001b[0;31mAttributeError\u001b[0m: 'ActionType' object has no attribute 'category'"
     ]
    }
   ],
   "source": [
    "g.update_choices(CHOICESM1INPUT)"
   ]
  },
  {
   "cell_type": "code",
   "execution_count": 7,
   "metadata": {},
   "outputs": [],
   "source": [
    "# todo get complaints\n",
    "\n",
    "complaints = [\n",
    "    [3,3],\n",
    "    [3,2],\n",
    "    [0,3],\n",
    "    [2,2],\n",
    "    [0,2]\n",
    "]\n",
    "\n",
    "# # add complaints into choices\n",
    "# for voter in range(len(complaints)): # i guess\n",
    "#     # checks? \n",
    "#     PLAYERS[voter].choices.complaints = complaints[voter]"
   ]
  },
  {
   "cell_type": "code",
   "execution_count": 8,
   "metadata": {},
   "outputs": [],
   "source": [
    "gm_input = {\n",
    "    \"month\": 0,\n",
    "    \"complaints\": complaints\n",
    "}"
   ]
  },
  {
   "cell_type": "code",
   "execution_count": 9,
   "metadata": {},
   "outputs": [],
   "source": [
    "\n",
    "m1 = Turn(PLAYERS, gm_input, 0, FIELDS)\n",
    "\n"
   ]
  },
  {
   "cell_type": "code",
   "execution_count": 10,
   "metadata": {},
   "outputs": [
    {
     "name": "stdout",
     "output_type": "stream",
     "text": [
      "\n",
      "\n",
      "El's --- action is blocked = False\n"
     ]
    }
   ],
   "source": [
    "log_m1 = m1.PROCESS_TURN()"
   ]
  },
  {
   "cell_type": "code",
   "execution_count": 11,
   "metadata": {},
   "outputs": [
    {
     "name": "stdout",
     "output_type": "stream",
     "text": [
      "\n",
      "----init----\n",
      "starting log...\n",
      "----Roleblocks & The Like----\n",
      "Starting to process roleblocks etc.\n",
      "\tPassive roleblocks processed...\n",
      "\tAll blocks processed!\n",
      "----Standard Actions----\n",
      "Starting to process standard actions...\n",
      "\tStandard actions processed!\n",
      "----Mechanics stuff----\n",
      "Starting to process mechanics...\n",
      "\tRunHorns()......\n",
      "\tComplaints handled.\n",
      "\tDP assigned.\n",
      "\tDetermining charges...\n",
      "\t\n",
      "Wilson has 14 DP, and got a result of 10.\n",
      "\tWilson punished with formal apology.\n",
      "\t\n",
      "Haelbarde has 16 DP, and got a result of 83.\n",
      "\tHaelbarde charged with Conduct Unbecoming a Member of the Arcanum and will be expelled.\n",
      "\t\n",
      "Kas has 8 DP, and got a result of 89.\n",
      "\tKas charged with Conduct Unbecoming a Member of the Arcanum and will be punished with 3 lashings.\n",
      "\tRunHorns()... Done!\n",
      "\t0 has no one to elevate.\n",
      "\t1 has no one to elevate.\n",
      "\t2 tries to elevate Player: Kas (Khas) - Vintish Nobleman - Student\n",
      "| Lin | Ari | R&L | Arc | Sym | Phy | Alc | Art | Nam |\n",
      "|  0  |  0  |  4  |  0  |  0  |  0  |  0  |  0  |  0  |\n",
      "\n",
      "\t3 has no one to elevate.\n",
      "\t4 tries to elevate Player: Devotary (devdev) - Yllish Commoner - Student\n",
      "| Lin | Ari | R&L | Arc | Sym | Phy | Alc | Art | Nam |\n",
      "|  0  |  0  |  0  |  0  |  2  |  0  |  0  |  0  |  0  |\n",
      "\n",
      "\t4 has no one to elevate.\n",
      "\t6 tries to elevate Player: Wilson (Will) - Cealdish Commoner - Student\n",
      "| Lin | Ari | R&L | Arc | Sym | Phy | Alc | Art | Nam |\n",
      "|  0  |  0  |  0  |  0  |  0  |  0  |  0  |  0  |  0  |\n",
      "\n",
      "\t7 has no one to elevate.\n",
      "\t8 has no one to elevate.\n",
      "\tPlayer Kas elevated in 2\n",
      "\tPlayer Devotary elevated in 4\n",
      "\tPlayer Wilson elevated in 6\n",
      "\tMechanics processed!\n",
      "----Offensive Actions----\n",
      "Processing offensive actions...\n",
      "\tOffensive actions processed!\n",
      "----Final----\n",
      "Turn is processed! blah blah blah\n"
     ]
    }
   ],
   "source": [
    "print(log_m1)"
   ]
  },
  {
   "cell_type": "code",
   "execution_count": 1,
   "metadata": {},
   "outputs": [],
   "source": []
  },
  {
   "cell_type": "code",
   "execution_count": null,
   "metadata": {},
   "outputs": [],
   "source": []
  }
 ],
 "metadata": {
  "kernelspec": {
   "display_name": "Python 3",
   "language": "python",
   "name": "python3"
  },
  "language_info": {
   "codemirror_mode": {
    "name": "ipython",
    "version": 3
   },
   "file_extension": ".py",
   "mimetype": "text/x-python",
   "name": "python",
   "nbconvert_exporter": "python",
   "pygments_lexer": "ipython3",
   "version": "3.10.12"
  },
  "orig_nbformat": 4
 },
 "nbformat": 4,
 "nbformat_minor": 2
}
