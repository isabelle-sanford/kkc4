{
 "cells": [
  {
   "cell_type": "code",
   "execution_count": 1,
   "metadata": {},
   "outputs": [],
   "source": [
    "from game_run import Turn, Game\n",
    "from statics import Lodging, Background\n",
    "from field import FieldName, FIELDS\n",
    "from items import ItemType\n",
    "from player import PlayerChoices\n",
    "from actions import ActionType"
   ]
  },
  {
   "cell_type": "code",
   "execution_count": 2,
   "metadata": {},
   "outputs": [],
   "source": [
    "# Player Initialization\n",
    "\n",
    "# todo get inputs from html page \n",
    "\n",
    "input0 = {\n",
    "    \"player_name\": \"Kas\",\n",
    "    \"player_rpname\": \"Khas\",\n",
    "    \"is_evil\": False,\n",
    "    \"background\": Background.Vint,\n",
    "    \"lodging\": Lodging.HorseAndFour,\n",
    "    \"musical_stat\": 12,\n",
    "    \"ep1\": (FieldName.RHETORICLOGIC, 7),\n",
    "    \"ep2\": None,\n",
    "    \"inventory\": None\n",
    "}\n",
    "\n",
    "input1 = {\n",
    "    \"player_name\": \"El\",\n",
    "    \"player_rpname\": \"Elle\",\n",
    "    \"is_evil\": True,\n",
    "    \"background\": Background.Ruh,\n",
    "    \"lodging\": Lodging.Ankers,\n",
    "    \"musical_stat\": 8,\n",
    "    \"ep1\": (FieldName.RHETORICLOGIC, 1),\n",
    "    \"ep2\": (FieldName.LINGUISTICS, 1),\n",
    "    \"inventory\": None\n",
    "}\n",
    "\n",
    "input2 = {\n",
    "    \"player_name\": \"Haelbarde\",\n",
    "    \"player_rpname\": \"Halle\",\n",
    "    \"is_evil\": True,\n",
    "    \"background\": Background.Aturan,\n",
    "    \"lodging\": Lodging.WindyTower,\n",
    "    \"musical_stat\": 5,\n",
    "    \"ep1\": (FieldName.NAMING, 2),\n",
    "    \"ep2\": None,\n",
    "    \"inventory\": None\n",
    "}\n",
    "\n",
    "input3 = {\n",
    "    \"player_name\": \"Wilson\",\n",
    "    \"player_rpname\": \"Will\",\n",
    "    \"is_evil\": False,\n",
    "    \"background\": Background.Ceald,\n",
    "    \"lodging\": Lodging.KingsDrab,\n",
    "    \"musical_stat\": 7,\n",
    "    \"ep1\": (FieldName.ALCHEMY, 1),\n",
    "    \"ep2\": (FieldName.ARTIFICERY, 1),\n",
    "    \"inventory\": ItemType.NAHLROUT\n",
    "}\n",
    "\n",
    "input4 = {\n",
    "    \"player_name\": \"Devotary\",\n",
    "    \"player_rpname\": \"devdev\",\n",
    "    \"is_evil\": False,\n",
    "    \"background\": Background.Yll,\n",
    "    \"lodging\": Lodging.GoldenPony,\n",
    "    \"musical_stat\": 8,\n",
    "    \"ep1\": (FieldName.SYMPATHY, 1),\n",
    "    \"ep2\": (FieldName.PHYSICKING, 1),\n",
    "    \"inventory\": ItemType.BLOODLESS\n",
    "}\n",
    "\n",
    "INPUTS = [input0, input1, input2, input3, input4]"
   ]
  },
  {
   "cell_type": "code",
   "execution_count": 3,
   "metadata": {},
   "outputs": [],
   "source": [
    "g = Game()"
   ]
  },
  {
   "cell_type": "code",
   "execution_count": 4,
   "metadata": {},
   "outputs": [
    {
     "name": "stdout",
     "output_type": "stream",
     "text": [
      "[Kas (Vintish Nobleman Student Rank.NONE), El (Edema Ruh Skindancer Rank.NONE), Haelbarde (Aturan Nobleman Skindancer Rank.NONE), Wilson (Cealdish Commoner Student Rank.NONE), Devotary (Yllish Commoner Student Rank.NONE)]\n"
     ]
    }
   ],
   "source": [
    "g.start_game(INPUTS)\n",
    "\n",
    "print(g.players)"
   ]
  },
  {
   "cell_type": "code",
   "execution_count": 5,
   "metadata": {},
   "outputs": [
    {
     "name": "stdout",
     "output_type": "stream",
     "text": [
      "Player: Kas (Khas) - Vintish Nobleman - Student\n",
      "| Lin | Ari | R&L | Arc | Sym | Phy | Alc | Art | Nam |\n",
      "|  1  |  0  |  8  |  0  |  2  |  0  |  1  |  1  |  2  |\n",
      "\n",
      "Player: El (Elle) - Edema Ruh - Skindancer\n",
      "| Lin | Ari | R&L | Arc | Sym | Phy | Alc | Art | Nam |\n",
      "|  1  |  0  |  8  |  0  |  2  |  0  |  1  |  1  |  2  |\n",
      "\n",
      "Player: Haelbarde (Halle) - Aturan Nobleman - Skindancer\n",
      "| Lin | Ari | R&L | Arc | Sym | Phy | Alc | Art | Nam |\n",
      "|  1  |  0  |  8  |  0  |  2  |  0  |  1  |  1  |  2  |\n",
      "\n",
      "Player: Wilson (Will) - Cealdish Commoner - Student\n",
      "| Lin | Ari | R&L | Arc | Sym | Phy | Alc | Art | Nam |\n",
      "|  1  |  0  |  8  |  0  |  2  |  0  |  1  |  1  |  2  |\n",
      "\n",
      "Player: Devotary (devdev) - Yllish Commoner - Student\n",
      "| Lin | Ari | R&L | Arc | Sym | Phy | Alc | Art | Nam |\n",
      "|  1  |  0  |  8  |  0  |  2  |  0  |  1  |  1  |  2  |\n",
      "\n"
     ]
    }
   ],
   "source": [
    "for p in g.players:\n",
    "    print(p)"
   ]
  },
  {
   "cell_type": "code",
   "execution_count": 6,
   "metadata": {},
   "outputs": [],
   "source": [
    "# Month 1 - players make choices, complaints\n",
    "\n",
    "# create choice objects\n",
    "# CHOICESM1 = []\n",
    "# for player in PLAYERS:\n",
    "#     choice = PlayerChoices(player.info)\n",
    "#     CHOICESM1.append(choice)\n",
    "#     player.choice = choice\n",
    "\n",
    "# todo get choices from player webpages \n",
    "\n",
    "choices0 = {\n",
    "    \"player\": 0, # id, for now just list index \n",
    "    \"imre_next\": False,\n",
    "    #\"complaints\": [3, 3],\n",
    "    \"actions\": None, # or []?\n",
    "    \"EP\": [FieldName.RHETORICLOGIC, FieldName.RHETORICLOGIC, FieldName.RHETORICLOGIC, FieldName.RHETORICLOGIC, FieldName.RHETORICLOGIC] # todo check appropriate amt somewhere\n",
    "}\n",
    "\n",
    "choices1 = {\n",
    "    \"player\": 1,\n",
    "    \"imre_next\": False,\n",
    "    #\"complaints\": [3, 2],\n",
    "    \"actions\": [{\n",
    "        \"action_type\": ActionType.Sabotage,\n",
    "        \"target\": 4, # is index ok even tho ref varies?\n",
    "        \"target2\": None\n",
    "    }],\n",
    "    \"EP\": [FieldName.ALCHEMY, FieldName.ALCHEMY, FieldName.SYMPATHY, FieldName.SYMPATHY, FieldName.ALCHEMY]\n",
    "}\n",
    "\n",
    "choices2 = {\n",
    "    \"player\": 2,\n",
    "    \"imre_next\": True,\n",
    "    #\"complaints\": [0, 3],\n",
    "    \"actions\": None,\n",
    "    \"EP\": [FieldName.LINGUISTICS, FieldName.LINGUISTICS, FieldName.LINGUISTICS, FieldName.LINGUISTICS, FieldName.LINGUISTICS]\n",
    "}\n",
    "\n",
    "choices3 = {\n",
    "    \"player\": 3,\n",
    "    \"imre_next\": True,\n",
    "    #\"complaints\": [2, 2],\n",
    "    \"actions\": None,\n",
    "    \"EP\": [FieldName.NAMING, FieldName.NAMING, FieldName.NAMING, FieldName.NAMING, FieldName.NAMING]\n",
    "}\n",
    "\n",
    "choices4 = {\n",
    "    \"player\": 4,\n",
    "    \"imre_next\": False,\n",
    "    #\"complaints\": [0, 2],\n",
    "    \"actions\": None,\n",
    "    \"EP\": [FieldName.ALCHEMY, FieldName.ALCHEMY, FieldName.ALCHEMY, FieldName.ALCHEMY, FieldName.ALCHEMY]\n",
    "}\n",
    "\n",
    "CHOICESM1INPUT = [choices0, choices1, choices2, choices3, choices4]"
   ]
  },
  {
   "cell_type": "code",
   "execution_count": 7,
   "metadata": {},
   "outputs": [],
   "source": [
    "g.update_choices(CHOICESM1INPUT)"
   ]
  },
  {
   "cell_type": "code",
   "execution_count": 8,
   "metadata": {},
   "outputs": [],
   "source": [
    "# todo get complaints\n",
    "\n",
    "complaints = [\n",
    "    [3,3],\n",
    "    [3,2],\n",
    "    [0,3],\n",
    "    [2,2],\n",
    "    [0,2]\n",
    "]\n",
    "\n",
    "# # add complaints into choices\n",
    "# for voter in range(len(complaints)): # i guess\n",
    "#     # checks? \n",
    "#     PLAYERS[voter].choices.complaints = complaints[voter]"
   ]
  },
  {
   "cell_type": "code",
   "execution_count": 9,
   "metadata": {},
   "outputs": [],
   "source": [
    "gm_input = {\n",
    "    \"month\": 0,\n",
    "    \"complaints\": complaints\n",
    "}"
   ]
  },
  {
   "cell_type": "code",
   "execution_count": 10,
   "metadata": {},
   "outputs": [],
   "source": [
    "\n",
    "m1 = Turn(g.players, gm_input, 0, FIELDS)\n",
    "\n"
   ]
  },
  {
   "cell_type": "code",
   "execution_count": 11,
   "metadata": {},
   "outputs": [
    {
     "data": {
      "text/plain": [
       "[0, 1, 2, 3, 4]"
      ]
     },
     "execution_count": 11,
     "metadata": {},
     "output_type": "execute_result"
    }
   ],
   "source": [
    "m1.sane_players"
   ]
  },
  {
   "cell_type": "code",
   "execution_count": 12,
   "metadata": {},
   "outputs": [
    {
     "name": "stdout",
     "output_type": "stream",
     "text": [
      "\n",
      "\n",
      "El's ActionInfo(id=31, name='Sabotage', category=<ActionCategory.OFFENSIVE: 2>, target1=<Target.PLAYER: 1>, target2=<Target.NONE: 9>, is_positive=False, is_negative=True, insanity_bonus=0, field_ability=None, is_passive=False) action is blocked = False\n"
     ]
    }
   ],
   "source": [
    "log_m1 = m1.PROCESS_TURN()"
   ]
  },
  {
   "cell_type": "code",
   "execution_count": 13,
   "metadata": {},
   "outputs": [
    {
     "name": "stdout",
     "output_type": "stream",
     "text": [
      "\n",
      "----init----\n",
      "starting log...\n",
      "----Roleblocks & The Like----\n",
      "Starting to process roleblocks etc.\n",
      "\tPassive roleblocks processed...\n",
      "\tAll blocks processed!\n",
      "----Standard Actions----\n",
      "Starting to process standard actions...\n",
      "\tStandard actions processed!\n",
      "----Mechanics stuff----\n",
      "Starting to process mechanics...\n",
      "\tRunHorns()......\n",
      "\tComplaints handled.\n",
      "\tDP assigned.\n",
      "\tDetermining charges...\n",
      "\t\n",
      "Kas has 8 DP, and got a result of 69.\n",
      "\tKas charged with Reckless Use of Sympathy and will be punished with 1 lashing.\n",
      "\t\n",
      "Haelbarde has 13 DP, and got a result of 78.\n",
      "\tHaelbarde charged with Conduct Unbecoming a Member of the Arcanum and will be expelled.\n",
      "\t\n",
      "Wilson has 12 DP, and got a result of 9.\n",
      "\tWilson punished with formal apology.\n",
      "\tRunHorns()... Done!\n",
      "\t0 has no one to elevate.\n",
      "\t1 has no one to elevate.\n",
      "\t2 tries to elevate Player: Kas (Khas) - Vintish Nobleman - Student\n",
      "| Lin | Ari | R&L | Arc | Sym | Phy | Alc | Art | Nam |\n",
      "|  0  |  0  |  3  |  0  |  0  |  0  |  0  |  0  |  0  |\n",
      "\n",
      "\t3 has no one to elevate.\n",
      "\t4 tries to elevate Player: Devotary (devdev) - Yllish Commoner - Student\n",
      "| Lin | Ari | R&L | Arc | Sym | Phy | Alc | Art | Nam |\n",
      "|  0  |  0  |  3  |  0  |  0  |  0  |  0  |  0  |  0  |\n",
      "\n",
      "\t4 has no one to elevate.\n",
      "\t6 tries to elevate Player: Wilson (Will) - Cealdish Commoner - Student\n",
      "| Lin | Ari | R&L | Arc | Sym | Phy | Alc | Art | Nam |\n",
      "|  0  |  0  |  3  |  0  |  0  |  0  |  0  |  0  |  0  |\n",
      "\n",
      "\t7 has no one to elevate.\n",
      "\t8 has no one to elevate.\n",
      "\tPlayer Kas elevated in 2\n",
      "\tPlayer Devotary elevated in 4\n",
      "\tPlayer Wilson elevated in 6\n",
      "\tMechanics processed!\n",
      "----Offensive Actions----\n",
      "Processing offensive actions...\n",
      "\tOffensive actions processed!\n",
      "----Final----\n",
      "Turn is processed! blah blah blah\n"
     ]
    }
   ],
   "source": [
    "print(log_m1)"
   ]
  },
  {
   "cell_type": "code",
   "execution_count": 1,
   "metadata": {},
   "outputs": [],
   "source": []
  },
  {
   "cell_type": "code",
   "execution_count": null,
   "metadata": {},
   "outputs": [],
   "source": []
  }
 ],
 "metadata": {
  "kernelspec": {
   "display_name": "Python 3",
   "language": "python",
   "name": "python3"
  },
  "language_info": {
   "codemirror_mode": {
    "name": "ipython",
    "version": 3
   },
   "file_extension": ".py",
   "mimetype": "text/x-python",
   "name": "python",
   "nbconvert_exporter": "python",
   "pygments_lexer": "ipython3",
   "version": "3.10.12"
  },
  "orig_nbformat": 4
 },
 "nbformat": 4,
 "nbformat_minor": 2
}
