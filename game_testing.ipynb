{
 "cells": [
  {
   "cell_type": "code",
   "execution_count": 1,
   "metadata": {},
   "outputs": [],
   "source": [
    "from game_run import Turn, start_game, update_choices, add_action\n",
    "from statics import Lodging, Background\n",
    "from field import FieldName, FIELDS\n",
    "from items import ItemType\n",
    "from player import PlayerChoices\n",
    "from actions import ActionType"
   ]
  },
  {
   "cell_type": "code",
   "execution_count": 2,
   "metadata": {},
   "outputs": [],
   "source": [
    "# Player Initialization\n",
    "\n",
    "# todo get inputs from html page \n",
    "\n",
    "input0 = {\n",
    "    \"player_name\": \"Kas\",\n",
    "    \"player_rpname\": \"Khas\",\n",
    "    \"is_evil\": False,\n",
    "    \"background\": Background.Vint,\n",
    "    \"lodging\": Lodging.HorseAndFour,\n",
    "    \"musical_stat\": 12,\n",
    "    \"ep1\": (FieldName.RHETORICLOGIC, 7),\n",
    "    \"ep2\": None,\n",
    "    \"inventory\": None\n",
    "}\n",
    "\n",
    "input1 = {\n",
    "    \"player_name\": \"El\",\n",
    "    \"player_rpname\": \"Elle\",\n",
    "    \"is_evil\": True,\n",
    "    \"background\": Background.Ruh,\n",
    "    \"lodging\": Lodging.Ankers,\n",
    "    \"musical_stat\": 8,\n",
    "    \"ep1\": (FieldName.RHETORICLOGIC, 1),\n",
    "    \"ep2\": (FieldName.LINGUISTICS, 1),\n",
    "    \"inventory\": None\n",
    "}\n",
    "\n",
    "input2 = {\n",
    "    \"player_name\": \"Haelbarde\",\n",
    "    \"player_rpname\": \"Halle\",\n",
    "    \"is_evil\": True,\n",
    "    \"background\": Background.Aturan,\n",
    "    \"lodging\": Lodging.WindyTower,\n",
    "    \"musical_stat\": 5,\n",
    "    \"ep1\": (FieldName.NAMING, 2),\n",
    "    \"ep2\": None,\n",
    "    \"inventory\": None\n",
    "}\n",
    "\n",
    "input3 = {\n",
    "    \"player_name\": \"Wilson\",\n",
    "    \"player_rpname\": \"Will\",\n",
    "    \"is_evil\": False,\n",
    "    \"background\": Background.Ceald,\n",
    "    \"lodging\": Lodging.KingsDrab,\n",
    "    \"musical_stat\": 7,\n",
    "    \"ep1\": (FieldName.ALCHEMY, 1),\n",
    "    \"ep2\": (FieldName.ARTIFICERY, 1),\n",
    "    \"inventory\": ItemType.NAHLROUT\n",
    "}\n",
    "\n",
    "input4 = {\n",
    "    \"player_name\": \"Devotary\",\n",
    "    \"player_rpname\": \"devdev\",\n",
    "    \"is_evil\": False,\n",
    "    \"background\": Background.Yll,\n",
    "    \"lodging\": Lodging.GoldenPony,\n",
    "    \"musical_stat\": 8,\n",
    "    \"ep1\": (FieldName.SYMPATHY, 1),\n",
    "    \"ep2\": (FieldName.PHYSICKING, 1),\n",
    "    \"inventory\": ItemType.BLOODLESS\n",
    "}\n",
    "\n",
    "INPUTS = [input0, input1, input2, input3, input4]"
   ]
  },
  {
   "cell_type": "code",
   "execution_count": 3,
   "metadata": {},
   "outputs": [
    {
     "name": "stdout",
     "output_type": "stream",
     "text": [
      "[<player.Player object at 0x7f8fbc18a610>, <player.Player object at 0x7f8fbc18af70>, <player.Player object at 0x7f8fbc18a550>, <player.Player object at 0x7f8fbc15e4f0>, <player.Player object at 0x7f8fbc102190>]\n"
     ]
    }
   ],
   "source": [
    "PLAYERS = start_game(INPUTS)\n",
    "\n",
    "print(PLAYERS)"
   ]
  },
  {
   "cell_type": "code",
   "execution_count": 4,
   "metadata": {},
   "outputs": [
    {
     "name": "stdout",
     "output_type": "stream",
     "text": [
      "Player: Kas (Khas) - Vintish Nobleman - Student\n",
      "| Lin | Ari | R&L | Arc | Sym | Phy | Alc | Art | Nam |\n",
      "|  0  |  0  |  7  |  0  |  0  |  0  |  0  |  0  |  0  |\n",
      "\n",
      "Player: El (Elle) - Edema Ruh - Skindancer\n",
      "| Lin | Ari | R&L | Arc | Sym | Phy | Alc | Art | Nam |\n",
      "|  1  |  0  |  1  |  0  |  0  |  0  |  0  |  0  |  0  |\n",
      "\n",
      "Player: Haelbarde (Halle) - Aturan Nobleman - Skindancer\n",
      "| Lin | Ari | R&L | Arc | Sym | Phy | Alc | Art | Nam |\n",
      "|  0  |  0  |  0  |  0  |  0  |  0  |  0  |  0  |  2  |\n",
      "\n",
      "Player: Wilson (Will) - Cealdish Commoner - Student\n",
      "| Lin | Ari | R&L | Arc | Sym | Phy | Alc | Art | Nam |\n",
      "|  0  |  0  |  0  |  0  |  0  |  0  |  1  |  1  |  0  |\n",
      "\n",
      "Player: Devotary (devdev) - Yllish Commoner - Student\n",
      "| Lin | Ari | R&L | Arc | Sym | Phy | Alc | Art | Nam |\n",
      "|  0  |  0  |  0  |  0  |  2  |  0  |  0  |  0  |  0  |\n",
      "\n"
     ]
    }
   ],
   "source": [
    "for p in PLAYERS:\n",
    "    print(p)"
   ]
  },
  {
   "cell_type": "code",
   "execution_count": 5,
   "metadata": {},
   "outputs": [],
   "source": [
    "# Month 1 - players make choices, complaints\n",
    "\n",
    "# create choice objects\n",
    "# CHOICESM1 = []\n",
    "# for player in PLAYERS:\n",
    "#     choice = PlayerChoices(player.info)\n",
    "#     CHOICESM1.append(choice)\n",
    "#     player.choice = choice\n",
    "\n",
    "# todo get choices from player webpages \n",
    "\n",
    "choices0 = {\n",
    "    \"player\": 0, # id, for now just list index \n",
    "    \"imre_next\": False,\n",
    "    #\"complaints\": [3, 3],\n",
    "    \"actions\": None, # or []?\n",
    "    \"EP\": [FieldName.RHETORICLOGIC, FieldName.RHETORICLOGIC, FieldName.RHETORICLOGIC, FieldName.RHETORICLOGIC, FieldName.RHETORICLOGIC] # todo check appropriate amt somewhere\n",
    "}\n",
    "\n",
    "choices1 = {\n",
    "    \"player\": 1,\n",
    "    \"imre_next\": False,\n",
    "    #\"complaints\": [3, 2],\n",
    "    \"actions\": [{\n",
    "        \"action_type\": ActionType.Sabotage,\n",
    "        \"target\": 4, # is index ok even tho ref varies?\n",
    "        \"target2\": None\n",
    "    }],\n",
    "    \"EP\": [FieldName.ALCHEMY, FieldName.ALCHEMY, FieldName.SYMPATHY, FieldName.SYMPATHY, FieldName.ALCHEMY]\n",
    "}\n",
    "\n",
    "choices2 = {\n",
    "    \"player\": 2,\n",
    "    \"imre_next\": True,\n",
    "    #\"complaints\": [0, 3],\n",
    "    \"actions\": None,\n",
    "    \"EP\": [FieldName.LINGUISTICS, FieldName.LINGUISTICS, FieldName.LINGUISTICS, FieldName.LINGUISTICS, FieldName.LINGUISTICS]\n",
    "}\n",
    "\n",
    "choices3 = {\n",
    "    \"player\": 3,\n",
    "    \"imre_next\": True,\n",
    "    #\"complaints\": [2, 2],\n",
    "    \"actions\": None,\n",
    "    \"EP\": [FieldName.NAMING, FieldName.NAMING, FieldName.NAMING, FieldName.NAMING, FieldName.NAMING]\n",
    "}\n",
    "\n",
    "choices4 = {\n",
    "    \"player\": 4,\n",
    "    \"imre_next\": False,\n",
    "    #\"complaints\": [0, 2],\n",
    "    \"actions\": None,\n",
    "    \"EP\": [FieldName.ALCHEMY, FieldName.ALCHEMY, FieldName.ALCHEMY, FieldName.ALCHEMY, FieldName.ALCHEMY]\n",
    "}\n",
    "\n",
    "CHOICESM1INPUT = [choices0, choices1, choices2, choices3, choices4]"
   ]
  },
  {
   "cell_type": "code",
   "execution_count": 6,
   "metadata": {},
   "outputs": [],
   "source": [
    "update_choices(PLAYERS, CHOICESM1INPUT)"
   ]
  },
  {
   "cell_type": "code",
   "execution_count": 7,
   "metadata": {},
   "outputs": [],
   "source": [
    "# todo get complaints\n",
    "\n",
    "complaints = [\n",
    "    [3,3],\n",
    "    [3,2],\n",
    "    [0,3],\n",
    "    [2,2],\n",
    "    [0,2]\n",
    "]\n",
    "\n",
    "# # add complaints into choices\n",
    "# for voter in range(len(complaints)): # i guess\n",
    "#     # checks? \n",
    "#     PLAYERS[voter].choices.complaints = complaints[voter]"
   ]
  },
  {
   "cell_type": "code",
   "execution_count": 8,
   "metadata": {},
   "outputs": [],
   "source": [
    "gm_input = {\n",
    "    \"month\": 0,\n",
    "    \"complaints\": complaints\n",
    "}"
   ]
  },
  {
   "cell_type": "code",
   "execution_count": 9,
   "metadata": {},
   "outputs": [],
   "source": [
    "\n",
    "m1 = Turn(PLAYERS, gm_input, 0, FIELDS)\n",
    "\n"
   ]
  },
  {
   "cell_type": "code",
   "execution_count": 10,
   "metadata": {},
   "outputs": [
    {
     "name": "stdout",
     "output_type": "stream",
     "text": [
      "\n",
      "\n",
      "El's --- action is blocked = False\n",
      "RunHorns()...\n",
      "\n",
      "Kas has 8 DP, and got a result of 37.\n",
      "Kas punished with formal apology.\n",
      "\n",
      "Haelbarde has 20 DP, and got a result of 73.\n",
      "Haelbarde charged with Conduct Unbecoming a Member of the Arcanum and will be expelled.\n",
      "\n",
      "Wilson has 13 DP, and got a result of 95.\n",
      "Wilson charged with Conduct Unbecoming a Member of the Arcanum and will be expelled.\n",
      "RunHorns()... Done!\n",
      "NPC master 0 picking who to elevate among: []\n",
      "NPC master 1 picking who to elevate among: []\n",
      "NPC master 2 picking who to elevate among: [<player.Player object at 0x7f8fbc18a610>, <player.Player object at 0x7f8fbc18a610>, <player.Player object at 0x7f8fbc18a610>, <player.Player object at 0x7f8fbc18a610>, <player.Player object at 0x7f8fbc18a610>, <player.Player object at 0x7f8fbc18a610>, <player.Player object at 0x7f8fbc18a610>, <player.Player object at 0x7f8fbc18af70>, <player.Player object at 0x7f8fbc18af70>]\n",
      "NPC master 3 picking who to elevate among: []\n",
      "NPC master 4 picking who to elevate among: [<player.Player object at 0x7f8fbc102190>, <player.Player object at 0x7f8fbc102190>]\n",
      "NPC master 4 picking who to elevate among: []\n",
      "NPC master 6 picking who to elevate among: [<player.Player object at 0x7f8fbc15e4f0>, <player.Player object at 0x7f8fbc15e4f0>]\n",
      "NPC master 7 picking who to elevate among: []\n",
      "NPC master 8 picking who to elevate among: [<player.Player object at 0x7f8fbc18a550>, <player.Player object at 0x7f8fbc18a550>]\n",
      "Player Kas elevated in 2\n",
      "Player Devotary elevated in 4\n",
      "Player Wilson elevated in 6\n",
      "Player Haelbarde elevated in 8\n"
     ]
    }
   ],
   "source": [
    "log_m1 = m1.PROCESS_TURN()"
   ]
  },
  {
   "cell_type": "code",
   "execution_count": 12,
   "metadata": {},
   "outputs": [
    {
     "name": "stdout",
     "output_type": "stream",
     "text": [
      "\n",
      "----init----starting log...\n",
      "----Roleblocks & The Like----Starting to process roleblocks etc.\n",
      "\tPassive roleblocks processed...\n",
      "\tAll blocks processed!\n",
      "----Standard Actions----Starting to process standard actions...\n",
      "\tStandard actions processed!\n",
      "----Mechanics stuff----Starting to process mechanics...\n",
      "\tMechanics processed!\n",
      "----Offensive Actions----Processing offensive actions...\n",
      "\tOffensive actions processed!\n",
      "----Final----Turn is processed! blah blah blah\n"
     ]
    }
   ],
   "source": [
    "print(log_m1)"
   ]
  },
  {
   "cell_type": "code",
   "execution_count": null,
   "metadata": {},
   "outputs": [],
   "source": []
  }
 ],
 "metadata": {
  "kernelspec": {
   "display_name": "Python 3",
   "language": "python",
   "name": "python3"
  },
  "language_info": {
   "codemirror_mode": {
    "name": "ipython",
    "version": 3
   },
   "file_extension": ".py",
   "mimetype": "text/x-python",
   "name": "python",
   "nbconvert_exporter": "python",
   "pygments_lexer": "ipython3",
   "version": "3.8.10"
  },
  "orig_nbformat": 4
 },
 "nbformat": 4,
 "nbformat_minor": 2
}
