{
 "cells": [
  {
   "cell_type": "code",
   "execution_count": null,
   "metadata": {},
   "outputs": [],
   "source": []
  },
  {
   "cell_type": "code",
   "execution_count": 11,
   "metadata": {},
   "outputs": [],
   "source": [
    "from player import PlayerStatic, PlayerChoices, PlayerStatus, Player\n",
    "from statics import Background, Lodging\n",
    "from field import Rank"
   ]
  },
  {
   "cell_type": "code",
   "execution_count": 15,
   "metadata": {},
   "outputs": [
    {
     "name": "stdout",
     "output_type": "stream",
     "text": [
      "[<player.PlayerChoices object at 0x7fcec1ee3ac0>, <player.PlayerChoices object at 0x7fcec1ee3820>, <player.PlayerChoices object at 0x7fcec1ee35b0>, <player.PlayerChoices object at 0x7fcec1ee39d0>, <player.PlayerChoices object at 0x7fcec1ee37f0>]\n"
     ]
    }
   ],
   "source": [
    "playernames = {0: \"Kasimir\", 1: \"Elbereth\", 2: \"Haelbarde\", 3: \"Wilson\", 4: \"Devotary\"}\n",
    "\n",
    "playerstatics = [\n",
    "    PlayerStatic(\"Kasimir\", \"Khas\", False, Background.Vint),\n",
    "    PlayerStatic(\"Elbereth\", \"Khas\", True, Background.Ruh, 1),\n",
    "    PlayerStatic(\"Haelbarde\", \"Khas\", True, Background.Aturan, 2),\n",
    "    PlayerStatic(\"Wilson\", \"Khas\", False, Background.Ceald, 3),\n",
    "    PlayerStatic(\"Devotary\", \"Khas\", False, Background.Yll, 4)\n",
    "]\n",
    "\n",
    "player_choices = [PlayerChoices(p) for p in playerstatics]\n",
    "\n",
    "print(player_choices)"
   ]
  },
  {
   "cell_type": "code",
   "execution_count": 17,
   "metadata": {},
   "outputs": [],
   "source": [
    "complaints = [\n",
    "    [3,3],\n",
    "    [3,2],\n",
    "    [0,3],\n",
    "    [2,2],\n",
    "    [0,2]\n",
    "]\n",
    "\n",
    "for i in range(len(player_choices)):\n",
    "    player_choices[i].complaints = complaints[i]"
   ]
  },
  {
   "cell_type": "code",
   "execution_count": null,
   "metadata": {},
   "outputs": [],
   "source": []
  },
  {
   "cell_type": "code",
   "execution_count": 36,
   "metadata": {},
   "outputs": [],
   "source": [
    "def run_complaints(player_choices: \"list[PlayerChoices]\", playernames):\n",
    "    # playernames = {0: player0name, 1: player1name, ... id: playername}\n",
    "\n",
    "    votes = {n.player_static.id: {\"count\": 0, \"players\": []} for n in player_choices}\n",
    "\n",
    "    for c in player_choices:\n",
    "    # maker sure valid? idk\n",
    "    # using index as id is gonna backfire at some point\n",
    "\n",
    "        for v in c.complaints:\n",
    "            votes[v][\"count\"] += 1\n",
    "            votes[v][\"players\"].append(c.player_static.id)\n",
    "\n",
    "    # dubious\n",
    "    public_vote = []\n",
    "    for votee, info in votes.items():\n",
    "        if info[\"count\"] > 0:\n",
    "            public_vote.append((votee, info[\"count\"], info[\"players\"]))\n",
    "\n",
    "    public_vote.sort(key=lambda x: x[1], reverse=True)\n",
    "\n",
    "    public_vote_string = \"\"\n",
    "    for p in public_vote:\n",
    "        public_vote_string += f\"{playernames[p[0]]} ({p[1]}): {', '.join([playernames[i] for i in p[2]])}\\n\"\n",
    "\n",
    "    print(public_vote_string)\n",
    "\n",
    "    # TODO VOTE MANIP (probably)\n",
    "\n",
    "    # add \"complaints_received\" to player status for informing them?\n",
    "\n",
    "    return votes # i guess\n",
    "\n",
    "    # handle manip and stuff\n"
   ]
  },
  {
   "cell_type": "code",
   "execution_count": null,
   "metadata": {},
   "outputs": [],
   "source": [
    "def run_horns(player_list: \"list[Player]\"):\n",
    "    # \n",
    "\n",
    "    sorted_complaints = run_complaints([p.choice for p in player_list], {p.id: p.info.name for p in player_list})\n",
    "\n",
    "    pc_masters: list[Player] = []\n",
    "    at_pony: list[Player] = []\n",
    "    complaints_list: list[int] = [] # TODO change to Player when done testing\n",
    "\n",
    "    for p in player_list:\n",
    "        if p.status.lodging == Lodging.GoldenPony:\n",
    "            at_pony.append(p)\n",
    "        \n",
    "        if p.status.rank == Rank.MASTER:\n",
    "            pc_masters.append(p)\n",
    "        \n",
    "        for c in p.choice.complaints:\n",
    "            complaints_list.append(c)\n",
    "\n",
    "    for p in at_pony:\n",
    "        count = sorted_complaints[p.id][\"count\"] # remove .id later\n",
    "\n",
    "        if count > 0:\n",
    "            complaints.remove(p.id) # .id\n",
    "        if count > 1:\n",
    "            complaints.remove(p.id)\n",
    "    \n",
    "    for m in pc_masters:\n",
    "        for d in m.choice.assigned_DP:\n",
    "            d."
   ]
  },
  {
   "cell_type": "code",
   "execution_count": 37,
   "metadata": {},
   "outputs": [
    {
     "name": "stdout",
     "output_type": "stream",
     "text": [
      "Haelbarde (4): Elbereth, Wilson, Wilson, Devotary\n",
      "Wilson (4): Kasimir, Kasimir, Elbereth, Haelbarde\n",
      "Kasimir (2): Haelbarde, Devotary\n",
      "\n"
     ]
    }
   ],
   "source": [
    "run_complaints(player_choices=player_choices, playernames=playernames)"
   ]
  },
  {
   "cell_type": "code",
   "execution_count": null,
   "metadata": {},
   "outputs": [],
   "source": []
  }
 ],
 "metadata": {
  "kernelspec": {
   "display_name": "Python 3",
   "language": "python",
   "name": "python3"
  },
  "language_info": {
   "codemirror_mode": {
    "name": "ipython",
    "version": 3
   },
   "file_extension": ".py",
   "mimetype": "text/x-python",
   "name": "python",
   "nbconvert_exporter": "python",
   "pygments_lexer": "ipython3",
   "version": "3.8.10"
  },
  "orig_nbformat": 4
 },
 "nbformat": 4,
 "nbformat_minor": 2
}
