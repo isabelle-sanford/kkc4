{
 "cells": [
  {
   "attachments": {},
   "cell_type": "markdown",
   "metadata": {},
   "source": [
    "Structure notes: \n",
    "* Everything is a class! woo! \n",
    "* Players have a PlayerStatic object that doesn't change throughout the game, and then each month they have an attached PlayerStatus with all the info about their status, plus a PlayerChoices object that details everything they try to do (basically anything that would be on the input page)\n",
    "* Actually processing a full turn with multiple PlayerChoices (and probably other stuff) is not present yet. \n",
    "* This is gonna be so annoying to do, y'all. Why are we like this. \n",
    "* I don't know how to use enums right. \n",
    "* Eventually classes with non-static data (so statuses, choices, etc) will be stored in a SQL db\n",
    "* Output of all this info will be onto webpages via flask"
   ]
  },
  {
   "cell_type": "code",
   "execution_count": 177,
   "metadata": {},
   "outputs": [],
   "source": [
    "import random\n",
    "from enum import Enum"
   ]
  },
  {
   "cell_type": "code",
   "execution_count": 178,
   "metadata": {},
   "outputs": [],
   "source": [
    "# enums \n",
    "# not sure if this is the best way to do this - could just incorporate into class def? \n",
    "\n",
    "# kinda unnecessary actually\n",
    "class BaseStat(Enum):\n",
    "    MUSIC = 1\n",
    "    ESSAY = 2\n",
    "    ART = 3\n",
    "\n",
    "\n",
    "class Rank(Enum):\n",
    "    NONE = 0 #?\n",
    "    ELIR = 1\n",
    "    RELAR = 2\n",
    "    ELTHE = 3\n",
    "    MASTER = 4\n",
    "\n",
    "    \n",
    "\n",
    "# rename? \n",
    "class FieldName(Enum):\n",
    "    LINGUISTICS = 1\n",
    "    ARITHMETICS = 2\n",
    "    RHETORICLOGIC = 3\n",
    "    ARCHIVES = 4\n",
    "    SYMPATHY = 5\n",
    "    PHYSICKING = 6\n",
    "    ALCHEMY = 7\n",
    "    ARTIFICERY = 8\n",
    "    NAMING = 9\n",
    "    GENERAL = 10  # ? 0? \n"
   ]
  },
  {
   "cell_type": "code",
   "execution_count": 179,
   "metadata": {},
   "outputs": [],
   "source": [
    "# LODGING\n",
    "\n",
    "class Lodging:\n",
    "    # could add description / effect\n",
    "    def __init__(self, name, cost):\n",
    "        self.name = name\n",
    "        self.cost = cost\n",
    "\n",
    "    def __str__(self):\n",
    "        return f\"{self.name} ({self.cost} talents)\"\n"
   ]
  },
  {
   "cell_type": "code",
   "execution_count": 180,
   "metadata": {},
   "outputs": [],
   "source": [
    "# should probs make enum here\n",
    "\n",
    "streets = Lodging(\"the streets\", 0)\n",
    "underthing = Lodging(\"The Underthing\", 0)\n",
    "mews = Lodging(\"Mews\", 1)\n",
    "ankers = Lodging(\"Ankers\", 4)\n",
    "kingsdrab = Lodging(\"The King's Drab\", 6)\n",
    "greyman = Lodging(\"The Grey Man\", 7)\n",
    "goldenpony = Lodging(\"The Golden Pony\", 8)\n",
    "windytower = Lodging(\"The Windy Tower\", 9)\n",
    "horseandfour = Lodging(\"The Horse and Four\", 10)\n",
    "pearlofimre = Lodging(\"The Pearl of Imre\", 11)\n",
    "spindleanddraft = Lodging(\"The Spindle and Draft\", 12)\n",
    "\n",
    "lodgings = [\n",
    "    streets,\n",
    "    underthing,\n",
    "    mews,\n",
    "    ankers,\n",
    "    kingsdrab,\n",
    "    greyman,\n",
    "    goldenpony,\n",
    "    windytower,\n",
    "    horseandfour,\n",
    "    pearlofimre,\n",
    "    spindleanddraft,\n",
    "]"
   ]
  },
  {
   "cell_type": "code",
   "execution_count": 181,
   "metadata": {},
   "outputs": [],
   "source": [
    "# SOCIAL CLASS\n",
    "class SocialClass:\n",
    "    # could add effect\n",
    "    def __init__(self, name, gamestart, stipend, startlodgings):\n",
    "        self.name = name\n",
    "        self.gamestart = gamestart\n",
    "        self.stipend = stipend\n",
    "        self.startlodgings = startlodgings # unneccessary tbf \n",
    "    \n",
    "    def __str__(self):\n",
    "        return f\"{self.name}\"\n"
   ]
  },
  {
   "cell_type": "code",
   "execution_count": 182,
   "metadata": {},
   "outputs": [],
   "source": [
    "# should do enum ?\n",
    "\n",
    "vint = SocialClass(\"Vintish Nobleman\", 20, 30, [horseandfour, spindleanddraft])\n",
    "aturan = SocialClass(\"Aturan Nobleman\", 13.34, 20, [windytower, horseandfour])\n",
    "yllish = SocialClass(\"Yllish Commoner\", 7.49, 11.23, [goldenpony, windytower])\n",
    "cealdish = SocialClass(\"Cealdish Commoner\", 6.58, 9.87, [kingsdrab, goldenpony])\n",
    "ruh = SocialClass(\"Edema Ruh\", 3.4, 5.67, [ankers, kingsdrab])\n",
    "\n",
    "social_classes = [vint, aturan, yllish, cealdish, ruh]"
   ]
  },
  {
   "cell_type": "code",
   "execution_count": 183,
   "metadata": {},
   "outputs": [],
   "source": [
    "# ability\n",
    "\n",
    "class Ability:\n",
    "    def __init__(\n",
    "        self,\n",
    "        ability_name,\n",
    "        field,\n",
    "        min_rank,\n",
    "        is_passive,\n",
    "        is_negative,\n",
    "        has_level_effects,\n",
    "        requires_target,\n",
    "        requires_second_target=False,\n",
    "        # maybe add \"operative-number\" or something? \n",
    "    ):\n",
    "        self.name = ability_name\n",
    "        self.field = field\n",
    "        self.min_rank = min_rank\n",
    "        self.is_passive = is_passive\n",
    "        self.requires_target = requires_target\n",
    "        self.requires_second_target = requires_second_target\n",
    "        self.has_level_effects = has_level_effects\n",
    "        self.is_negative = is_negative\n",
    "    \n",
    "    def __str__(self):\n",
    "        return f\"{self.name} ({self.field.name})\"\n",
    "    \n",
    "    # more descriptive / longer string func? \n"
   ]
  },
  {
   "cell_type": "code",
   "execution_count": 184,
   "metadata": {},
   "outputs": [],
   "source": [
    "# static information about a particular field (i.e. the stuff in the rules)\n",
    "\n",
    "class FieldInfo:\n",
    "    def __init__(\n",
    "        self,\n",
    "        field,\n",
    "        name,\n",
    "        ability1,\n",
    "        ability2,\n",
    "        ability3,\n",
    "        ability4, # make defaults here? \n",
    "        level1_AP=0,\n",
    "        level2_AP=0,\n",
    "        level3_AP=0,\n",
    "        master_AP=0,\n",
    "        # other stuff? idk\n",
    "    ):\n",
    "        self.name = name\n",
    "        self.field_id = field\n",
    "        self.ability1 = ability1\n",
    "        self.ability2 = ability2\n",
    "        self.ability3 = ability3\n",
    "        self.ability4 = ability4\n",
    "\n",
    "        self.level1_AP = level1_AP\n",
    "        self.level2_AP = level2_AP\n",
    "        self.level3_AP = level3_AP\n",
    "        self.master_AP = master_AP\n",
    "\n"
   ]
  },
  {
   "cell_type": "code",
   "execution_count": 185,
   "metadata": {},
   "outputs": [],
   "source": [
    "# LINGUISTICS\n",
    "\n",
    "# might want to do the is_passive=True, etc stuff\n",
    "mysterious_bulletins = Ability(\n",
    "    \"Hand Delivery\", FieldName.LINGUISTICS, Rank.ELIR, True, False, False, False\n",
    ")\n",
    "hand_delivery = Ability(\n",
    "    \"Hand Delivery\",\n",
    "    FieldName.LINGUISTICS,\n",
    "    Rank.RELAR,\n",
    "    False,\n",
    "    False,\n",
    "    False,\n",
    "    False,\n",
    "    False,\n",
    ")\n",
    "bribe_messenger = Ability(\n",
    "    \"Bribe Messenger\",\n",
    "    FieldName.LINGUISTICS,\n",
    "    Rank.ELTHE,\n",
    "    False,\n",
    "    True,\n",
    "    False,\n",
    "    True,\n",
    "    False,\n",
    ")\n",
    "linguistic_analysis = Ability(\n",
    "    \"Linguistic Analysis\",\n",
    "    FieldName.LINGUISTICS,\n",
    "    Rank.MASTER,\n",
    "    False,\n",
    "    True,\n",
    "    False,\n",
    "    True,\n",
    "    False,\n",
    ")\n",
    "\n",
    "\n",
    "linguistics = FieldInfo(\n",
    "    FieldName.LINGUISTICS,\n",
    "    \"Linguistics\",\n",
    "    mysterious_bulletins,\n",
    "    hand_delivery,\n",
    "    bribe_messenger,\n",
    "    linguistic_analysis,\n",
    "    False,\n",
    "    FieldName.GENERAL,\n",
    "    FieldName.GENERAL,\n",
    "    FieldName.GENERAL,\n",
    ")"
   ]
  },
  {
   "cell_type": "code",
   "execution_count": 186,
   "metadata": {},
   "outputs": [],
   "source": [
    "# ARITHMETICS\n",
    "\n",
    "\n",
    "reduced_interest = Ability(\n",
    "    \"Reduced Interest\",\n",
    "    FieldName.ARITHMETICS,\n",
    "    Rank.ELIR,\n",
    "    True,\n",
    "    False,\n",
    "    True,\n",
    "    False,\n",
    "    False,\n",
    ")\n",
    "pickpocket = Ability(\n",
    "    \"Pickpocket\", FieldName.ARITHMETICS, Rank.ELIR, False, True, True, True, False\n",
    ")  # only requires target at master level\n",
    "great_deals = Ability(\n",
    "    \"Great Deals\", FieldName.ARITHMETICS, Rank.ELIR, True, False, True, False, False\n",
    ")\n",
    "decreased_tuition = Ability(\n",
    "    \"Decreased Tuition\",\n",
    "    FieldName.ARITHMETICS,\n",
    "    Rank.ELIR,\n",
    "    True,\n",
    "    False,\n",
    "    True,\n",
    "    False,\n",
    "    False,\n",
    ")\n",
    "\n",
    "arithmetics = FieldInfo(\n",
    "    FieldName.ARITHMETICS,\n",
    "    \"Arithmetics\",\n",
    "    reduced_interest,\n",
    "    pickpocket,\n",
    "    great_deals,\n",
    "    decreased_tuition,\n",
    "    master_AP=FieldName.ARITHMETICS,\n",
    ")\n"
   ]
  },
  {
   "cell_type": "code",
   "execution_count": null,
   "metadata": {},
   "outputs": [],
   "source": [
    "# TODO MORE CLASSES HERE"
   ]
  },
  {
   "cell_type": "code",
   "execution_count": 197,
   "metadata": {},
   "outputs": [],
   "source": [
    "# static info about a player, will never change \n",
    "class PlayerStatic:\n",
    "\n",
    "    def __init__(self, name, rp_name, is_evil, social_class):\n",
    "        # ? id? \n",
    "        self.name = name \n",
    "        self.rp_name = rp_name\n",
    "        self.is_evil = is_evil \n",
    "        self.social_class = social_class\n",
    "    \n",
    "    def __str__(self):\n",
    "        ret = f\"Player: {self.name} ({self.rp_name}) - {self.social_class} - \"\n",
    "        ret += \"Skindancer\" if self.is_evil else \"Student\"\n",
    "        ret += \"\\n\"\n",
    "        return ret"
   ]
  },
  {
   "cell_type": "code",
   "execution_count": 188,
   "metadata": {},
   "outputs": [],
   "source": [
    "# information about a player's status PER MONTH\n",
    "class PlayerStatus:\n",
    "\n",
    "    # input from GM distribution \n",
    "    def __init__(\n",
    "        self, player_static, starting_lodging, musical_stat, inventory, EP_field1, EP_num1, EP_field2, EP_num2\n",
    "    ):\n",
    "        self.info = player_static\n",
    "        self.available_EP = 5\n",
    "        self.rank = Rank.NONE\n",
    "        self.month = 0\n",
    "\n",
    "        self.lodging = starting_lodging\n",
    "        self.money = player_static.social_class.gamestart # hmm\n",
    "\n",
    "        self.musical_stat = musical_stat\n",
    "        self.inventory = [inventory] # questionable\n",
    "\n",
    "        self.EP = {field: 0 for field in FieldName} # ? \n",
    "\n",
    "        self.EP[EP_field1] += EP_num1 \n",
    "        self.EP[EP_field2] += EP_num2\n",
    "        #self.EP = {EP_field1: EP_num1, EP_field2: EP_num2} # what happens if the second field isn't given \n",
    "        self.elevations = []\n",
    "\n",
    "        self.is_alive = True \n",
    "        self.is_sane = True\n",
    "        self.is_expelled = False \n",
    "        self.is_enrolled = True \n",
    "        self.in_Imre = False\n",
    "    \n",
    "    def __str__(self):\n",
    "        line1 = f\"Player: {self.info.name} ({self.info.social_class}) Month: {self.month}\"\n",
    "        line2 = f\"Status: \"\n",
    "        line2 += \"Skindancer, \" if self.info.is_evil else \"\"\n",
    "        line2 += \"alive, \" if self.is_alive else \"dead, \"\n",
    "        line2 += \"sane, \" if self.is_sane else \"insane, \"\n",
    "        line2 += \"expelled, \" if self.is_expelled else \"\"\n",
    "        line2 += \"enrolled\" if self.is_enrolled else \"unenrolled\"\n",
    "        line2a = f\"Lodging: {self.lodging} Money: {self.money}\"\n",
    "        line3 = f\"Rank: {self.rank.name} EP on file: {[(n.name, v) for n, v in self.EP.items()]}\"\n",
    "        line4 = f\"Elevations: {len(self.elevations)} ({[f.name for f in self.elevations]})\"\n",
    "        line5 = f\"Inventory: {self.inventory}\"\n",
    "\n",
    "        ret = \"\\n\".join([line1, line2, line2a, line3, line4, line5])\n",
    "\n",
    "        return ret\n",
    "\n",
    "    # todo tuition/money stuff\n",
    "\n",
    "    # could check available_EP etc here, but probs don't need to? dunno\n",
    "    def file(self, fields):\n",
    "        for f in fields:\n",
    "            if f in FieldName:\n",
    "                self.EP[f] += 1\n",
    "\n",
    "    # elevate player to next rank, with associated new actions, AP, etc\n",
    "    def elevate(self, field):\n",
    "        if len(self.elevations) > 3: return False \n",
    "        # maybe check if there's any EP in that field? maybe not here tho\n",
    "\n",
    "        self.elevations.append(field)\n",
    "\n",
    "        #self.rank = self.rank.next() # todo figure this out\n",
    "        self.available_EP -= 1 # this should be fine? error check anyway? \n",
    "\n",
    "        # remove up to 5 EP on elevation\n",
    "        if self.EP[field] < 5:\n",
    "            self.EP[field] = 0\n",
    "        else:\n",
    "            self.EP[field] -= 5\n",
    "\n",
    "        # ASSIGN NEW AVAILABLE ACTION/ABILITY\n",
    "    \n",
    "\n",
    "    def expel(self):\n",
    "        self.is_expelled = True \n",
    "        self.is_enrolled = False \n",
    "        self.available_EP = 0\n",
    "        # ? is there any reason to keep track of EP post-expulsion? still useable for IP? \n",
    "    \n",
    "    def insanify(self):\n",
    "        self.is_sane = False \n",
    "        # other stuff? kinda want to keep it though\n",
    "    \n",
    "    def kill(self):\n",
    "        self.is_alive = False \n",
    "    \n",
    "    # todo vote(?)"
   ]
  },
  {
   "cell_type": "code",
   "execution_count": 189,
   "metadata": {},
   "outputs": [],
   "source": [
    "# maybe dataclass holding actual player status vars? "
   ]
  },
  {
   "cell_type": "code",
   "execution_count": 190,
   "metadata": {},
   "outputs": [],
   "source": [
    "class PlayerChoices:\n",
    "    # basically a record of what things a player wants to do this turn\n",
    "    # and funcs returning false if the player can't do those things\n",
    "    # choices are actually processed and integrated to the overall game separately \n",
    "    \n",
    "    def __init__(self, player_static, player_status, month):\n",
    "        self.player = player_status\n",
    "        self.info = player_static # could get this from player status\n",
    "        self.month = month # could also get this but seems relevant? idk\n",
    "\n",
    "        if self.player.available_EP > 0:\n",
    "            self.EP_filed = [FieldName.GENERAL] * self.player.available_EP # ?? ew\n",
    "        \n",
    "        if self.month % 3 == 0:\n",
    "            self.next_lodging = streets # ! change to enum val probs\n",
    "\n",
    "        self.imre_next = False # should check if in imre lodging \n",
    "\n",
    "    # def take_action\n",
    "\n",
    "    # helper function to add multiple maybe? \n",
    "    def file_EP(self, field, slot): \n",
    "        if slot >= self.player.available_EP: return False \n",
    "\n",
    "        if field in FieldName: # ? \n",
    "            self.EP_filed[slot] = field\n",
    "    \n",
    "    def go_to_Imre(self):\n",
    "        # TODO \n",
    "        self.imre_next = True\n",
    "\n",
    "\n",
    "    def set_next_lodging(self, lodging):\n",
    "        if self.month % 3 == 0:\n",
    "            self.next_lodging = lodging\n",
    "        else:\n",
    "            return False \n",
    "    \n",
    "    def enroll_next(self):\n",
    "        if self.player.is_expelled: # is this enough? \n",
    "            self.enroll_next_term = True\n",
    "        else:\n",
    "            return False \n",
    "\n",
    "\n",
    "    def __str__(self):\n",
    "        # this is probably not ideal :p\n",
    "        line1 = f\"Player: {self.info.name}  Month: {self.month}\\n\"\n",
    "        line2 = f\"EP filed: {[s.name for s in self.EP_filed]}\\n\" # ! fix later\n",
    "        line3 = f\"Going to Imre next month: {self.imre_next}\\n\"\n",
    "        \n",
    "        return line1 + line2 + line3\n",
    "\n",
    "    # todo vote\n",
    "\n",
    "    # todo imre stuff\n",
    "        # practice / play @ the eolian (play_pipes, practice_pipes)\n",
    "        # apothecary (buy_item)\n",
    "        # buy assassin/bodyguard/sold items (buy_contract)\n",
    "        # give_contract / take_contract (need a \"taken_contracts\" attribute probs)\n",
    "        # loaded dice nums \n",
    "        # devi/giles loan "
   ]
  },
  {
   "cell_type": "code",
   "execution_count": null,
   "metadata": {},
   "outputs": [],
   "source": [
    "# Master ( / FieldStatus ? )\n",
    "# need to track curr Master, DP placement, & who has what EP filed / elevations in the field"
   ]
  },
  {
   "cell_type": "code",
   "execution_count": null,
   "metadata": {},
   "outputs": [],
   "source": [
    "# ITEMS\n",
    "# name, num_uses, is_destructible(?), owner, price(?)"
   ]
  },
  {
   "cell_type": "code",
   "execution_count": null,
   "metadata": {},
   "outputs": [],
   "source": [
    "# CONTRACT (player)\n",
    "# id, giver, taker, past takers, start date, reward, description "
   ]
  },
  {
   "cell_type": "code",
   "execution_count": null,
   "metadata": {},
   "outputs": [],
   "source": [
    "# DEBT\n",
    "# gaelet, player, amount, month"
   ]
  },
  {
   "cell_type": "code",
   "execution_count": null,
   "metadata": {},
   "outputs": [],
   "source": [
    "# tuition inflations / reductions, probably (data class?)"
   ]
  },
  {
   "attachments": {},
   "cell_type": "markdown",
   "metadata": {},
   "source": [
    "## testing / simulations / examples"
   ]
  },
  {
   "cell_type": "code",
   "execution_count": 191,
   "metadata": {},
   "outputs": [],
   "source": [
    "kasInfo = PlayerStatic(\"Kasimir\", \"Khas\", False, ruh)\n",
    "\n",
    "startKas = PlayerStatus(kasInfo, ankers, 8, \"\", FieldName.RHETORICLOGIC, 7, FieldName.LINGUISTICS, 0) # def change so second field not required\n",
    "\n",
    "kasM1choices = PlayerChoices(kasInfo, startKas, 0)\n",
    "kasM1choices.file_EP(FieldName.RHETORICLOGIC, 0)\n",
    "kasM1choices.file_EP(FieldName.RHETORICLOGIC, 1)\n",
    "kasM1choices.file_EP(FieldName.RHETORICLOGIC, 2)\n",
    "kasM1choices.file_EP(FieldName.RHETORICLOGIC, 3)\n",
    "#kasM1choices.file_EP(FieldName.RHETORICLOGIC, 4)\n",
    "\n",
    "kasM1choices.go_to_Imre()"
   ]
  },
  {
   "cell_type": "code",
   "execution_count": 192,
   "metadata": {},
   "outputs": [
    {
     "name": "stdout",
     "output_type": "stream",
     "text": [
      "Player: Kasimir  Month: 0\n",
      "EP filed: ['RHETORICLOGIC', 'RHETORICLOGIC', 'RHETORICLOGIC', 'RHETORICLOGIC', 'GENERAL']\n",
      "Going to Imre next month: False\n",
      "\n"
     ]
    }
   ],
   "source": [
    "print(kasM1choices)"
   ]
  },
  {
   "cell_type": "code",
   "execution_count": 193,
   "metadata": {},
   "outputs": [
    {
     "name": "stdout",
     "output_type": "stream",
     "text": [
      "<__main__.PlayerStatic object at 0x7f187088ea60>\n"
     ]
    }
   ],
   "source": [
    "print(kasInfo)"
   ]
  },
  {
   "cell_type": "code",
   "execution_count": 194,
   "metadata": {},
   "outputs": [
    {
     "name": "stdout",
     "output_type": "stream",
     "text": [
      "Player: Kasimir (Edema Ruh) Month: 0\n",
      "Status: alive, sane, enrolled\n",
      "Lodging: Ankers (4 talents) Money: 3.4\n",
      "Rank: NONE EP on file: [('LINGUISTICS', 0), ('ARITHMETICS', 0), ('RHETORICLOGIC', 7), ('ARCHIVES', 0), ('SYMPATHY', 0), ('PHYSICKING', 0), ('ALCHEMY', 0), ('ARTIFICERY', 0), ('NAMING', 0), ('GENERAL', 0)]\n",
      "Elevations: 0 ([])\n",
      "Inventory: ['']\n"
     ]
    }
   ],
   "source": [
    "print(startKas)"
   ]
  },
  {
   "cell_type": "code",
   "execution_count": 195,
   "metadata": {},
   "outputs": [
    {
     "data": {
      "text/plain": [
       "<__main__.PlayerStatus at 0x7f187088e970>"
      ]
     },
     "execution_count": 195,
     "metadata": {},
     "output_type": "execute_result"
    }
   ],
   "source": [
    "kasM2 = startKas # todo figure out how to copy\n",
    "\n",
    "kasM2.file(kasM1choices.EP_filed)\n",
    "\n",
    "kasM2.elevate(FieldName.RHETORICLOGIC)\n",
    "\n",
    "kasM2.month = 1\n",
    "\n",
    "kasM2.insanify()\n",
    "\n",
    "kasM2"
   ]
  },
  {
   "cell_type": "code",
   "execution_count": 196,
   "metadata": {},
   "outputs": [
    {
     "name": "stdout",
     "output_type": "stream",
     "text": [
      "Player: Kasimir (Edema Ruh) Month: 1\n",
      "Status: alive, insane, enrolled\n",
      "Lodging: Ankers (4 talents) Money: 3.4\n",
      "Rank: NONE EP on file: [('LINGUISTICS', 0), ('ARITHMETICS', 0), ('RHETORICLOGIC', 6), ('ARCHIVES', 0), ('SYMPATHY', 0), ('PHYSICKING', 0), ('ALCHEMY', 0), ('ARTIFICERY', 0), ('NAMING', 0), ('GENERAL', 1)]\n",
      "Elevations: 1 (['RHETORICLOGIC'])\n",
      "Inventory: ['']\n"
     ]
    }
   ],
   "source": [
    "print(kasM2)"
   ]
  },
  {
   "cell_type": "code",
   "execution_count": 7,
   "metadata": {},
   "outputs": [
    {
     "name": "stdout",
     "output_type": "stream",
     "text": [
      "i: 1   r: 400\n"
     ]
    }
   ],
   "source": [
    "class TestClass:\n",
    "\n",
    "    def __init__(self, p1):\n",
    "        self.r = p1.r \n",
    "        self.i = p1.i\n",
    "    \n",
    "    def get_r(self):\n",
    "        return self.r\n",
    "    \n",
    "\n",
    "class StartClass:\n",
    "    def __init__(self):\n",
    "        self.i = 1\n",
    "        self.r = \"400\"\n",
    "    \n",
    "\n",
    "    def __str__(self):\n",
    "        return f\"i: {self.i}   r: {self.r}\"\n",
    "\n",
    "st = StartClass()\n",
    "\n",
    "tc = TestClass(st)\n",
    "\n",
    "print(st)"
   ]
  },
  {
   "cell_type": "code",
   "execution_count": null,
   "metadata": {},
   "outputs": [],
   "source": []
  }
 ],
 "metadata": {
  "kernelspec": {
   "display_name": "Python 3",
   "language": "python",
   "name": "python3"
  },
  "language_info": {
   "codemirror_mode": {
    "name": "ipython",
    "version": 3
   },
   "file_extension": ".py",
   "mimetype": "text/x-python",
   "name": "python",
   "nbconvert_exporter": "python",
   "pygments_lexer": "ipython3",
   "version": "3.8.10"
  },
  "orig_nbformat": 4
 },
 "nbformat": 4,
 "nbformat_minor": 2
}
