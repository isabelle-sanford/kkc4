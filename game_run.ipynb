{
 "cells": [
  {
   "cell_type": "code",
   "execution_count": 1,
   "metadata": {},
   "outputs": [],
   "source": [
    "\n",
    "\n",
    "from statics import Background, Lodging\n",
    "from field import FieldName, FieldStatus, FIELDS\n",
    "from items import ItemType, Item\n",
    "from actions import ActionType, Action, ActionCategory\n",
    "from player import PlayerStatic, PlayerStatus, PlayerChoices, PlayerProcessing, Player\n",
    "import random\n",
    "from horns import Horns\n",
    "from outcome import ProcessLog, Result"
   ]
  },
  {
   "cell_type": "code",
   "execution_count": null,
   "metadata": {},
   "outputs": [],
   "source": []
  },
  {
   "cell_type": "code",
   "execution_count": 2,
   "metadata": {},
   "outputs": [],
   "source": [
    "# Player Initialization\n",
    "\n",
    "# todo get inputs from html page \n",
    "\n",
    "input0 = {\n",
    "    \"player_name\": \"Kas\",\n",
    "    \"player_rpname\": \"Khas\",\n",
    "    \"is_evil\": False,\n",
    "    \"background\": Background.Vint,\n",
    "    \"lodging\": Lodging.HorseAndFour,\n",
    "    \"musical_stat\": 12,\n",
    "    \"ep1\": (FieldName.RHETORICLOGIC, 7),\n",
    "    \"ep2\": None,\n",
    "    \"inventory\": None\n",
    "}\n",
    "\n",
    "input1 = {\n",
    "    \"player_name\": \"El\",\n",
    "    \"player_rpname\": \"Elle\",\n",
    "    \"is_evil\": True,\n",
    "    \"background\": Background.Ruh,\n",
    "    \"lodging\": Lodging.Ankers,\n",
    "    \"musical_stat\": 8,\n",
    "    \"ep1\": (FieldName.RHETORICLOGIC, 1),\n",
    "    \"ep2\": (FieldName.LINGUISTICS, 1),\n",
    "    \"inventory\": None\n",
    "}\n",
    "\n",
    "input2 = {\n",
    "    \"player_name\": \"Haelbarde\",\n",
    "    \"player_rpname\": \"Halle\",\n",
    "    \"is_evil\": True,\n",
    "    \"background\": Background.Aturan,\n",
    "    \"lodging\": Lodging.WindyTower,\n",
    "    \"musical_stat\": 5,\n",
    "    \"ep1\": (FieldName.NAMING, 2),\n",
    "    \"ep2\": None,\n",
    "    \"inventory\": None\n",
    "}\n",
    "\n",
    "input3 = {\n",
    "    \"player_name\": \"Wilson\",\n",
    "    \"player_rpname\": \"Will\",\n",
    "    \"is_evil\": False,\n",
    "    \"background\": Background.Ceald,\n",
    "    \"lodging\": Lodging.KingsDrab,\n",
    "    \"musical_stat\": 7,\n",
    "    \"ep1\": (FieldName.ALCHEMY, 1),\n",
    "    \"ep2\": (FieldName.ARTIFICERY, 1),\n",
    "    \"inventory\": ItemType.NAHLROUT\n",
    "}\n",
    "\n",
    "input4 = {\n",
    "    \"player_name\": \"Devotary\",\n",
    "    \"player_rpname\": \"devdev\",\n",
    "    \"is_evil\": False,\n",
    "    \"background\": Background.Yll,\n",
    "    \"lodging\": Lodging.GoldenPony,\n",
    "    \"musical_stat\": 8,\n",
    "    \"ep1\": (FieldName.SYMPATHY, 1),\n",
    "    \"ep2\": (FieldName.PHYSICKING, 1),\n",
    "    \"inventory\": ItemType.BLOODLESS\n",
    "}\n",
    "\n",
    "INPUTS = [input0, input1, input2, input3, input4]"
   ]
  },
  {
   "cell_type": "code",
   "execution_count": 3,
   "metadata": {},
   "outputs": [
    {
     "name": "stdout",
     "output_type": "stream",
     "text": [
      "Kas\n",
      "El\n",
      "Haelbarde\n",
      "Wilson\n",
      "Devotary\n"
     ]
    }
   ],
   "source": [
    "PLAYERSTATICS = []\n",
    "PLAYERSTATUSES = []\n",
    "# 0 Kas, 1 El, 2 Hael, 3 Wilson, 4 Devo\n",
    "\n",
    "for id, i in enumerate(INPUTS):\n",
    "    p = PlayerStatic(i[\"player_name\"], i[\"player_rpname\"], i[\"is_evil\"], i[\"background\"])\n",
    "    p.id = id\n",
    "    PLAYERSTATICS.append(p)\n",
    "    print(i[\"player_name\"])\n",
    "\n",
    "    inventory = []\n",
    "    if i[\"inventory\"] is not None:\n",
    "        inventory.append(Item.Generate(i[\"inventory\"])) # does this work or do you need to do something different bc 2 nahlrout? \n",
    "    ps = PlayerStatus.distro_init(p, i[\"lodging\"], i[\"musical_stat\"], inventory)\n",
    "\n",
    "    if i[\"ep1\"] is not None:\n",
    "        ps.EP.values[i[\"ep1\"][0]] += i[\"ep1\"][1]\n",
    "        FIELDS[i[\"ep1\"][0]].EP[p] = i[\"ep1\"][1]\n",
    "\n",
    "    \n",
    "    if i[\"ep2\"] is not None:\n",
    "        ps.EP.values[i[\"ep2\"][0]] += i[\"ep2\"][1]\n",
    "        FIELDS[i[\"ep2\"][0]].EP[p] = i[\"ep2\"][1]\n",
    "    \n",
    "    PLAYERSTATUSES.append(ps)\n",
    "    \n",
    "# todo create player webpages, GM pages, etc "
   ]
  },
  {
   "cell_type": "code",
   "execution_count": 4,
   "metadata": {},
   "outputs": [],
   "source": [
    "PLAYERS: list[Player] = []\n",
    "\n",
    "for i in range(len(PLAYERSTATICS)):\n",
    "    p = Player(PLAYERSTATICS[i], PLAYERSTATUSES[i])\n",
    "    PLAYERS.append(p)\n"
   ]
  },
  {
   "cell_type": "markdown",
   "metadata": {},
   "source": [
    "## Fill In Month 1 Info/Choices"
   ]
  },
  {
   "cell_type": "code",
   "execution_count": 5,
   "metadata": {},
   "outputs": [],
   "source": [
    "# Month 1 - players make choices, complaints\n",
    "\n",
    "# create choice objects\n",
    "CHOICESM1 = []\n",
    "for player in PLAYERS:\n",
    "    choice = PlayerChoices(player.info)\n",
    "    CHOICESM1.append(choice)\n",
    "    player.choice = choice\n",
    "\n",
    "# todo get choices from player webpages \n",
    "\n",
    "choices0 = {\n",
    "    \"player\": 0, # id, for now just list index \n",
    "    \"imre_next\": False,\n",
    "    #\"complaints\": [3, 3],\n",
    "    \"actions\": None, # or []?\n",
    "    \"EP\": [FieldName.RHETORICLOGIC, FieldName.RHETORICLOGIC, FieldName.RHETORICLOGIC, FieldName.RHETORICLOGIC, FieldName.RHETORICLOGIC] # todo check appropriate amt somewhere\n",
    "}\n",
    "\n",
    "choices1 = {\n",
    "    \"player\": 1,\n",
    "    \"imre_next\": False,\n",
    "    #\"complaints\": [3, 2],\n",
    "    \"actions\": [{\n",
    "        \"action_type\": ActionType.Sabotage,\n",
    "        \"target\": 4, # is index ok even tho ref varies?\n",
    "        \"target2\": None\n",
    "    }],\n",
    "    \"EP\": [FieldName.ALCHEMY, FieldName.ALCHEMY, FieldName.SYMPATHY, FieldName.SYMPATHY, FieldName.ALCHEMY]\n",
    "}\n",
    "\n",
    "choices2 = {\n",
    "    \"player\": 2,\n",
    "    \"imre_next\": True,\n",
    "    #\"complaints\": [0, 3],\n",
    "    \"actions\": None,\n",
    "    \"EP\": [FieldName.LINGUISTICS, FieldName.LINGUISTICS, FieldName.LINGUISTICS, FieldName.LINGUISTICS, FieldName.LINGUISTICS]\n",
    "}\n",
    "\n",
    "choices3 = {\n",
    "    \"player\": 3,\n",
    "    \"imre_next\": True,\n",
    "    #\"complaints\": [2, 2],\n",
    "    \"actions\": None,\n",
    "    \"EP\": [FieldName.NAMING, FieldName.NAMING, FieldName.NAMING, FieldName.NAMING, FieldName.NAMING]\n",
    "}\n",
    "\n",
    "choices4 = {\n",
    "    \"player\": 4,\n",
    "    \"imre_next\": False,\n",
    "    #\"complaints\": [0, 2],\n",
    "    \"actions\": None,\n",
    "    \"EP\": [FieldName.ALCHEMY, FieldName.ALCHEMY, FieldName.ALCHEMY, FieldName.ALCHEMY, FieldName.ALCHEMY]\n",
    "}\n",
    "\n",
    "CHOICESM1INPUT = [choices0, choices1, choices2, choices3, choices4]"
   ]
  },
  {
   "cell_type": "code",
   "execution_count": 6,
   "metadata": {},
   "outputs": [],
   "source": [
    "# fill in choice objects\n",
    "# (make a func for this)\n",
    "for c in CHOICESM1INPUT:\n",
    "    curr = CHOICESM1[c[\"player\"]]\n",
    "    curr.imre_next = c[\"imre_next\"]\n",
    "    curr.EP_filed = c[\"EP\"]\n",
    "\n",
    "    if c[\"actions\"] is not None:\n",
    "        for a in c[\"actions\"]:\n",
    "            act = Action(c[\"player\"], a[\"action_type\"], a[\"target\"], a[\"target2\"])\n",
    "            curr.actions.append(act)\n"
   ]
  },
  {
   "cell_type": "code",
   "execution_count": 7,
   "metadata": {},
   "outputs": [],
   "source": [
    "# todo get complaints\n",
    "\n",
    "complaints = [\n",
    "    [3,3],\n",
    "    [3,2],\n",
    "    [0,3],\n",
    "    [2,2],\n",
    "    [0,2]\n",
    "]\n",
    "\n",
    "# add complaints into choices\n",
    "for voter in range(len(complaints)): # i guess\n",
    "    choice = CHOICESM1[voter]\n",
    "    choice.complaints = complaints[voter]\n"
   ]
  },
  {
   "cell_type": "code",
   "execution_count": null,
   "metadata": {},
   "outputs": [],
   "source": []
  },
  {
   "cell_type": "code",
   "execution_count": 8,
   "metadata": {},
   "outputs": [],
   "source": [
    "# todo get info abt post nums etc\n",
    "\n",
    "# todo input said info (into choices? or statuses? idk)\n",
    "\n",
    "# todo save all choices / statuses to SQL  // make copies\n"
   ]
  },
  {
   "cell_type": "markdown",
   "metadata": {},
   "source": [
    "## Run Month 1"
   ]
  },
  {
   "cell_type": "code",
   "execution_count": 9,
   "metadata": {},
   "outputs": [],
   "source": [
    "# store stuff in sql\n",
    "\n",
    "process = ProcessLog(0)"
   ]
  },
  {
   "cell_type": "code",
   "execution_count": 10,
   "metadata": {},
   "outputs": [],
   "source": [
    "import copy\n",
    "\n",
    "next_statuses = []\n",
    "ACTIONS = []\n",
    "for p in PLAYERS:\n",
    "    np = copy.deepcopy(p.status)\n",
    "    next_statuses.append(np)\n",
    "    # p.initial_status = p.status\n",
    "    p.status = np\n",
    "    for a in p.choices.actions:\n",
    "        ACTIONS.append(a)\n",
    "\n",
    "# also update field_statuses here?"
   ]
  },
  {
   "cell_type": "code",
   "execution_count": 11,
   "metadata": {},
   "outputs": [],
   "source": [
    "\n",
    "# input is PLAYERS (Player list) and something like GMINPUT\n",
    "# possibly also actions list? idk\n",
    "\n",
    "GMINPUT = {\n",
    "    \"month\": 0\n",
    "} # TODO\n",
    "\n",
    "if GMINPUT[\"month\"] % 3 == 0 and GMINPUT[\"month\"] > 0:\n",
    "    # GIVE STIPENDS\n",
    "    for p in PLAYERS:\n",
    "        p.status.money += p.initial_status.stipend \n",
    "\n",
    "    # DO TUITION STUFF\n",
    "\n",
    "    # DO LODGING STUFF\n",
    "        # remember to adjust available_EP\n"
   ]
  },
  {
   "cell_type": "code",
   "execution_count": 12,
   "metadata": {},
   "outputs": [
    {
     "name": "stdout",
     "output_type": "stream",
     "text": [
      "<class 'player.PlayerProcessing'>\n",
      "<class 'player.PlayerProcessing'>\n",
      "<class 'player.PlayerProcessing'>\n",
      "<class 'player.PlayerProcessing'>\n",
      "<class 'player.PlayerProcessing'>\n"
     ]
    }
   ],
   "source": [
    "# Passive Protects - checked during offensive actions\n",
    "\n",
    "\n",
    "\n",
    "# Passive roleblocks\n",
    "\n",
    "# homecoming \n",
    "for p in PLAYERS:\n",
    "    print(type(p.status))\n",
    "    roll = random.randrange(0,100)\n",
    "    if p.info.social_class == Background.Vint and roll < 25:\n",
    "        p.status.is_blocked = True\n",
    "        p.status.can_be_targeted = False\n",
    "    elif p.info.social_class == Background.Aturan and roll < 10:\n",
    "        p.status.is_blocked = True\n",
    "        p.status.can_be_targeted = False\n",
    "\n",
    "    # no, wait, that's gotta be per action\n",
    "    if p.initial_status.lodging == Lodging.Streets and roll < 50:\n",
    "        p.status.is_blocked = True \n",
    "    elif p.initial_status.lodging == Lodging.Ankers and roll < 15:\n",
    "        action_blocked = random.choice(p.choice.actions)\n",
    "        action_blocked.blocked = True\n",
    "        action_blocked.block_reasoning += \"Ankers\"\n",
    "\n",
    "\n",
    "# make sure to update prev turn stuff like medica_emergency"
   ]
  },
  {
   "cell_type": "markdown",
   "metadata": {},
   "source": [
    "## Action-affecting stuff (roleblocks & redirects)\n",
    "\n",
    "In progress / unfinished / not really working on so probably wonky."
   ]
  },
  {
   "cell_type": "code",
   "execution_count": 13,
   "metadata": {},
   "outputs": [],
   "source": [
    "# Mommets"
   ]
  },
  {
   "cell_type": "code",
   "execution_count": 14,
   "metadata": {},
   "outputs": [],
   "source": [
    "# law of contraposition\n",
    "\n",
    "# this is bad, just have the first target be an Action and whatever\n",
    "master_rhetoricist = FIELDS[FieldName.RHETORICLOGIC].master \n",
    "if master_rhetoricist is not None: \n",
    "    if not master_rhetoricist.processing.is_blocked:\n",
    "        for a in master_rhetoricist.choices.actions:\n",
    "            if a.type == ActionType.LawOfContraposition and not a.blocked:\n",
    "                if a.target.processing.can_be_targeted and a.target_two.processing.can_be_targeted: \n",
    "                    # do something\n",
    "                    target_action = a.target_three\n",
    "\n",
    "                    if not target_action.blocked and target_action.target is not None:\n",
    "                        target_action.target = a.target_two\n",
    "\n",
    "                else:\n",
    "                    a.successful = False\n",
    "\n",
    "# somewhere around here check the item creation single-turn thing"
   ]
  },
  {
   "cell_type": "code",
   "execution_count": 15,
   "metadata": {},
   "outputs": [],
   "source": [
    "# somewhere up here need to include the plum bob rage roleblock thing\n",
    "\n",
    "# malfeasance protection (master)\n",
    "for p in PLAYERS:\n",
    "    for a in p.choice.actions:\n",
    "        if a.type == ActionType.MalfeasanceProtection and a.level == 4:\n",
    "            p.processing.transfer_neg_actions_to = a.target\n"
   ]
  },
  {
   "cell_type": "code",
   "execution_count": 16,
   "metadata": {},
   "outputs": [],
   "source": [
    "# this goes elsewhere because it's a next-turn thing now\n",
    "# medica emergency\n",
    "for p in PLAYERS: \n",
    "    # could maybe narrow to ppl with Phys elevations? but eh\n",
    "\n",
    "    for a in p.choices.actions:\n",
    "        if a.type == ActionType.MedicaEmergency:\n",
    "            if p.processing.is_blocked or p.status.in_Imre:\n",
    "                print(\"can't take action!\")\n",
    "                continue\n",
    "            # ehhhhh\n",
    "            level = a.level \n",
    "            level2 = p.level_in(FieldName.PHYSICKING)\n",
    "            \n",
    "            if level != level2:\n",
    "                print(\"problems! \")\n",
    "            \n",
    "            p.processing.can_be_targeted = False \n",
    "\n",
    "            if level == 1 or level == 2:\n",
    "                p.processing.can_file_complaints = False\n",
    "            \n",
    "            for act in p.choices.actions:\n",
    "                if act.type != ActionType.MedicaEmergency:\n",
    "                    if level != 4:\n",
    "                        act.blocked = True\n",
    "                    \n",
    "                    # if master\n",
    "                    # TODO (this is bad)\n",
    "                    elif act.type != ActionType.MedicaDetainment or act.type != ActionType.PsychologicalCounselling or act.type != ActionType.CheatingDeath:\n",
    "                        act.blocked = True\n",
    "            \n",
    "\n",
    "            \n",
    "\n",
    "\n",
    "\n",
    "# malfeasance III\n",
    "\n"
   ]
  },
  {
   "cell_type": "code",
   "execution_count": 17,
   "metadata": {},
   "outputs": [
    {
     "name": "stdout",
     "output_type": "stream",
     "text": [
      "Kas targets El with ActionType.UseMommet\n",
      "El targets Haelbarde with ActionType.UseMommet\n",
      "Haelbarde targets Devotary with ActionType.UseMommet\n",
      "Haelbarde targets Wilson with ActionType.UseMommet\n",
      "Wilson targets Devotary with ActionType.UseMommet\n",
      "Devotary targets Haelbarde with ActionType.UseMommet\n",
      "Start of sequence found: [Kas]\n",
      "Start of sequence found: [El->Kas]\n",
      "Start of sequence found: [El->Kas]\n",
      "Start of sequence found: [El->Kas]\n",
      "Cycle found: [Devotary->Haelbarde]\n",
      "Cycle found: [Haelbarde->Devotary->Wilson]\n",
      "Cycle found: [Haelbarde->Devotary]\n",
      "Cycle found: [Wilson->Haelbarde->Devotary]\n",
      "Cycle found: [Haelbarde->Devotary]\n",
      "Cycle found: [Devotary->Wilson->Haelbarde]\n",
      "Cycle found: [Haelbarde->Devotary]\n",
      "Cycle found: [Haelbarde->Devotary->Wilson]\n",
      "Kas's ActionType.UseMommet action is blocked = False\n",
      "El's ActionType.UseMommet action is blocked = True\n",
      "Haelbarde's ActionType.UseMommet action is blocked = True\n",
      "Haelbarde's ActionType.UseMommet action is blocked = True\n",
      "Wilson's ActionType.UseMommet action is blocked = True\n",
      "Devotary's ActionType.UseMommet action is blocked = True\n"
     ]
    }
   ],
   "source": [
    "# action roleblocks\n",
    "def apply_valid_blocks(block_list: list[Action], count = 0):\n",
    "    state_changed = False\n",
    "\n",
    "    # Only clears block actions blocked_by fields, \n",
    "    for p in PLAYERS:\n",
    "        for a in p.choices.actions:\n",
    "            if a.blocked ==  False:\n",
    "                a.clear_blocked_by()\n",
    "\n",
    "    # Notify all actions of intent to be blocked.\n",
    "    for a in block_list:\n",
    "        a.set_blocked_by()\n",
    "\n",
    "    # Duplicated in set_blocked_by(). Probably should be handled with categories\n",
    "    block_one = [ActionType.UseTenaculumAction, ActionType.UseNahlrout]\n",
    "    block_all = [ActionType.FaeLore, ActionType.MedicaDetainment, ActionType.UseMommet]\n",
    "\n",
    "    for action in block_list:\n",
    "        # Ignoring players who have been blocked, if the player isn't being blocked, apply their blocks.\n",
    "        if not(action.blocked) and len(action.blocked_by) == 0:\n",
    "            if action.type in block_all:\n",
    "                for a in action.target.choices.actions:\n",
    "                    if a.blocked == False: # Only sets flags if not already blocked.\n",
    "                        a.blocked = True\n",
    "                        state_changed = True\n",
    "            elif action.type in block_one:\n",
    "                a = action.target.find_action(\"Block\") # Technically different to how the BlockedBy flag is set by with SetBlockedBy()\n",
    "                if a is not None:\n",
    "                    if a.blocked == False: # Only sets flags if not already blocked.\n",
    "                        a.blocked = True\n",
    "                        a.blocked_by = action.player # Don't know if this will have been already set...\n",
    "                        state_changed = True\n",
    "\n",
    "    if state_changed:\n",
    "        apply_valid_blocks(block_list, count + 1)\n",
    "\n",
    "    for p in PLAYERS:\n",
    "        for a in p.choices.actions:\n",
    "            if a.blocked ==  False:\n",
    "                a.clear_blocked_by()    \n",
    "\n",
    "# Mommets\n",
    "mommet_actions: list[Action] = []\n",
    "mommet_actions.append(Action(PLAYERS[0],ActionType.UseMommet,PLAYERS[1]))\n",
    "mommet_actions.append(Action(PLAYERS[1],ActionType.UseMommet,PLAYERS[2]))\n",
    "mommet_actions.append(Action(PLAYERS[2],ActionType.UseMommet,PLAYERS[4]))\n",
    "mommet_actions.append(Action(PLAYERS[2],ActionType.UseMommet,PLAYERS[3]))\n",
    "mommet_actions.append(Action(PLAYERS[3],ActionType.UseMommet,PLAYERS[4]))\n",
    "mommet_actions.append(Action(PLAYERS[4],ActionType.UseMommet,PLAYERS[2]))\n",
    "\n",
    "for a in mommet_actions:\n",
    "    print(f\"{a.player.info.name} targets {a.target.info.name} with {a.type}\")\n",
    "    a.player.choices.actions.append(a)\n",
    "\n",
    "# Import Mommet actions for consideration\n",
    "# for p in PLAYERS:\n",
    "#     for a in p.choices.actions:\n",
    "#         print(f\"Action:{a}\")\n",
    "#         if a.type == ActionType.UseMommet:\n",
    "#             mommet_actions.append(a)\n",
    "\n",
    "apply_valid_blocks(mommet_actions)\n",
    "\n",
    "for a in mommet_actions:\n",
    "    a.set_blocked_by()\n",
    "    # Do something like only allow a given action to appear once in the list.\n",
    "\n",
    "\n",
    "for a in mommet_actions:\n",
    "    a.identify_block_cycle([])\n",
    "\n",
    "for a in mommet_actions:\n",
    "    if a.in_block_cycle:\n",
    "        # This may have to happen after all recursive .identify_block_cycle \n",
    "        # calls resolve to help ensure dealing with sub loops doesn't break anything?\n",
    "        a.blocked = True\n",
    "  \n",
    "apply_valid_blocks(mommet_actions)\n",
    "\n",
    "for p in PLAYERS:\n",
    "    for a in p.choices.actions:\n",
    "        print(f\"{a.player.info.name}'s {a.type} action is blocked = {a.blocked}\")\n"
   ]
  },
  {
   "cell_type": "markdown",
   "metadata": {},
   "source": []
  },
  {
   "cell_type": "code",
   "execution_count": null,
   "metadata": {},
   "outputs": [],
   "source": []
  },
  {
   "cell_type": "markdown",
   "metadata": {},
   "source": [
    "## Other Actions"
   ]
  },
  {
   "cell_type": "code",
   "execution_count": 18,
   "metadata": {},
   "outputs": [],
   "source": [
    "# maybe preprocess here to get insanity bonuses, \n",
    "# list of who's targeting each player,\n",
    "# ? "
   ]
  },
  {
   "cell_type": "code",
   "execution_count": 19,
   "metadata": {},
   "outputs": [],
   "source": [
    "# stuff\n",
    "\n",
    "for action in ACTIONS:\n",
    "    if action.category == ActionCategory.OTHER:\n",
    "        if action.blocked:\n",
    "            # idk\n",
    "            print(\"blocked\")\n",
    "        else:\n",
    "            # check that target is targetable? \n",
    "\n",
    "            action.perform()\n",
    "            \n"
   ]
  },
  {
   "cell_type": "markdown",
   "metadata": {},
   "source": [
    "## GM / field / procedural things\n",
    "DP, Horns, expulsions, elevations, IP, EP, breakout roll\n",
    "\n",
    "really gotta remember to do all the tuition inflation/reduction stuff somewhere"
   ]
  },
  {
   "cell_type": "code",
   "execution_count": 20,
   "metadata": {},
   "outputs": [
    {
     "name": "stdout",
     "output_type": "stream",
     "text": [
      "RunHorns()...\n",
      "RunHorns()... Done!\n"
     ]
    }
   ],
   "source": [
    "horns = Horns()\n",
    "horns.run_horns()"
   ]
  },
  {
   "cell_type": "code",
   "execution_count": 21,
   "metadata": {},
   "outputs": [
    {
     "name": "stdout",
     "output_type": "stream",
     "text": [
      "EP list for 0 is [[<player.PlayerStatic object at 0x0000023C33272090>]]\n",
      "EP list for 1 is []\n",
      "EP list for 2 is [[<player.PlayerStatic object at 0x0000023C332B9550>, <player.PlayerStatic object at 0x0000023C332B9550>, <player.PlayerStatic object at 0x0000023C332B9550>, <player.PlayerStatic object at 0x0000023C332B9550>, <player.PlayerStatic object at 0x0000023C332B9550>, <player.PlayerStatic object at 0x0000023C332B9550>, <player.PlayerStatic object at 0x0000023C332B9550>], [<player.PlayerStatic object at 0x0000023C33272090>]]\n",
      "EP list for 3 is []\n",
      "EP list for 4 is [[<player.PlayerStatic object at 0x0000023C332B9F90>]]\n",
      "EP list for 4 is [[<player.PlayerStatic object at 0x0000023C332B9F90>]]\n",
      "EP list for 6 is [[<player.PlayerStatic object at 0x0000023C332B9CD0>]]\n",
      "EP list for 7 is [[<player.PlayerStatic object at 0x0000023C332B9CD0>]]\n",
      "EP list for 8 is [[<player.PlayerStatic object at 0x0000023C332B99D0>, <player.PlayerStatic object at 0x0000023C332B99D0>]]\n",
      "<player.Player object at 0x0000023C328B0AD0>\n"
     ]
    },
    {
     "ename": "AttributeError",
     "evalue": "'PlayerProcessing' object has no attribute 'elevations'",
     "output_type": "error",
     "traceback": [
      "\u001b[1;31m---------------------------------------------------------------------------\u001b[0m",
      "\u001b[1;31mAttributeError\u001b[0m                            Traceback (most recent call last)",
      "Cell \u001b[1;32mIn[21], line 41\u001b[0m\n\u001b[0;32m     38\u001b[0m         f\u001b[39m.\u001b[39melevatedOnce\u001b[39m.\u001b[39mappend(p)\n\u001b[0;32m     40\u001b[0m     \u001b[39mprint\u001b[39m(p)\n\u001b[1;32m---> 41\u001b[0m     p\u001b[39m.\u001b[39;49melevate_in(f\u001b[39m.\u001b[39;49mname)\n\u001b[0;32m     42\u001b[0m     \u001b[39m# todo: add accessible actions\u001b[39;00m\n\u001b[0;32m     43\u001b[0m \n\u001b[0;32m     44\u001b[0m \u001b[39m# master-level elevation TODO\u001b[39;00m\n",
      "File \u001b[1;32md:\\Users\\Jeremy\\Documents\\GitHub\\kkc4\\player.py:324\u001b[0m, in \u001b[0;36mPlayer.elevate_in\u001b[1;34m(self, field)\u001b[0m\n\u001b[0;32m    323\u001b[0m \u001b[39mdef\u001b[39;00m \u001b[39melevate_in\u001b[39m(\u001b[39mself\u001b[39m, field: FieldName):\n\u001b[1;32m--> 324\u001b[0m     \u001b[39mself\u001b[39;49m\u001b[39m.\u001b[39;49mstatus\u001b[39m.\u001b[39;49melevations\u001b[39m.\u001b[39mappend(field)\n\u001b[0;32m    325\u001b[0m     num_EP \u001b[39m=\u001b[39m \u001b[39mself\u001b[39m\u001b[39m.\u001b[39mstatus\u001b[39m.\u001b[39mEP\u001b[39m.\u001b[39mvalues[field]\n\u001b[0;32m    326\u001b[0m     \u001b[39mif\u001b[39;00m num_EP \u001b[39m<\u001b[39m \u001b[39m5\u001b[39m:\n",
      "\u001b[1;31mAttributeError\u001b[0m: 'PlayerProcessing' object has no attribute 'elevations'"
     ]
    }
   ],
   "source": [
    "# elevations\n",
    "# make this a function pls\n",
    "\n",
    "to_elevate = []\n",
    "for f in FIELDS:\n",
    "    if f.master is not None:\n",
    "        if len(f.master.choices.to_elevate) > 0:\n",
    "            # check master can elevate?\n",
    "            to_elevate.append(f.master.choices.to_elevate[0])\n",
    "            f.elevating = f.master.choices.to_elevate[0]\n",
    "\n",
    "        # else add tuition inflation? \n",
    "    else:\n",
    "        l = f.get_EP_list()\n",
    "        if len(l) > 0:\n",
    "\n",
    "            npc_choice = random.choice(l)\n",
    "            to_elevate.append(npc_choice) \n",
    "            f.elevating = npc_choice\n",
    "    \n",
    "# TODO: recurse until there aren't any duplicates\n",
    "\n",
    "# once elevations are set\n",
    "for f in FIELDS:\n",
    "    if f.elevating is None:\n",
    "        continue\n",
    "    p = PLAYERS[f.elevating[0].id] # why is this a list tho\n",
    "\n",
    "    # this is definitely not the way to do this\n",
    "    # also does NOT include master elevations atm\n",
    "    if p in f.elevatedOnce:\n",
    "        f.elevatedOnce.remove(p)\n",
    "        f.elevatedTwice.append(p)\n",
    "    elif p in f.elevatedTwice:\n",
    "        f.elevatedTwice.remove(p)\n",
    "        f.elevatedThrice.append(p)\n",
    "    else:\n",
    "        f.elevatedOnce.append(p)\n",
    "\n",
    "    print(p)\n",
    "    p.elevate_in(f.name)\n",
    "    # todo: add accessible actions\n",
    "\n",
    "# master-level elevation TODO"
   ]
  },
  {
   "cell_type": "code",
   "execution_count": null,
   "metadata": {},
   "outputs": [],
   "source": [
    "# IP Offsetting"
   ]
  },
  {
   "cell_type": "code",
   "execution_count": null,
   "metadata": {},
   "outputs": [],
   "source": [
    "# EP filing\n",
    "\n",
    "for p in PLAYERS:\n",
    "    if p.status.can_file_EP and len(p.choice.filing_EP) > 0:\n",
    "        # todo make sure it's the right amt of EP\n",
    "\n",
    "        for e in p.choice.filing_EP:\n",
    "            p.status.EP[e] += 1\n",
    "\n",
    "# I think that's all that's needed here?"
   ]
  },
  {
   "cell_type": "code",
   "execution_count": null,
   "metadata": {},
   "outputs": [],
   "source": [
    "# breakout roll\n",
    "\n",
    "for p in PLAYERS:\n",
    "    if not p.initial_status.is_sane and p.initial_status.is_alive:\n",
    "        roll = random.randint(1,20)\n",
    "        if len(p.known_names) >= 5:\n",
    "            roll = random.randint(1,10)\n",
    "        \n",
    "        if roll == 1:\n",
    "            print(f\"{p.name} broke out !!!\")\n",
    "            p.status.is_sane = True \n",
    "            # todo break_out() func \n",
    "\n"
   ]
  },
  {
   "cell_type": "markdown",
   "metadata": {},
   "source": [
    "## Offensive Actions"
   ]
  },
  {
   "cell_type": "code",
   "execution_count": null,
   "metadata": {},
   "outputs": [],
   "source": [
    "# offensive actions \n",
    "\n",
    "# check if attacked player is @ H&4\n",
    "# other passive protects"
   ]
  },
  {
   "cell_type": "markdown",
   "metadata": {},
   "source": [
    "## Other actions / misc? "
   ]
  },
  {
   "cell_type": "code",
   "execution_count": null,
   "metadata": {},
   "outputs": [],
   "source": [
    "# using ward, maybe? Kinda? \n",
    "# Probably doesn't actually make a difference, you can look at the full list of actions once blocks are handled and include kills without actually processing them"
   ]
  },
  {
   "cell_type": "markdown",
   "metadata": {},
   "source": [
    "## Saving / Logging / GM Input"
   ]
  },
  {
   "cell_type": "markdown",
   "metadata": {},
   "source": []
  },
  {
   "cell_type": "code",
   "execution_count": null,
   "metadata": {},
   "outputs": [],
   "source": [
    "# no idea"
   ]
  },
  {
   "cell_type": "markdown",
   "metadata": {},
   "source": []
  }
 ],
 "metadata": {
  "kernelspec": {
   "display_name": "Python 3",
   "language": "python",
   "name": "python3"
  },
  "language_info": {
   "codemirror_mode": {
    "name": "ipython",
    "version": 3
   },
   "file_extension": ".py",
   "mimetype": "text/x-python",
   "name": "python",
   "nbconvert_exporter": "python",
   "pygments_lexer": "ipython3",
   "version": "3.11.4"
  },
  "orig_nbformat": 4
 },
 "nbformat": 4,
 "nbformat_minor": 2
}
