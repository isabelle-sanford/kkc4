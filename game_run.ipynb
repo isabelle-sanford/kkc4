{
 "cells": [
  {
   "cell_type": "code",
   "execution_count": null,
   "metadata": {},
   "outputs": [],
   "source": [
    "\n",
    "from player import PlayerStatic, PlayerStatus, PlayerChoices, PlayerProcessing, Player\n",
    "from statics import Background, Lodging\n",
    "from field import FieldName, FieldStatus, FIELDS\n",
    "from items import ItemType, Item\n",
    "from actions import ActionType, Action, ActionCategory\n",
    "import random"
   ]
  },
  {
   "cell_type": "code",
   "execution_count": null,
   "metadata": {},
   "outputs": [],
   "source": []
  },
  {
   "cell_type": "code",
   "execution_count": null,
   "metadata": {},
   "outputs": [],
   "source": [
    "# Player Initialization\n",
    "\n",
    "# todo get inputs from html page \n",
    "\n",
    "input0 = {\n",
    "    \"player_name\": \"Kas\",\n",
    "    \"player_rpname\": \"Khas\",\n",
    "    \"is_evil\": False,\n",
    "    \"background\": Background.Vint,\n",
    "    \"lodging\": Lodging.HorseAndFour,\n",
    "    \"musical_stat\": 12,\n",
    "    \"ep1\": (FieldName.RHETORICLOGIC, 7),\n",
    "    \"ep2\": None,\n",
    "    \"inventory\": None\n",
    "}\n",
    "\n",
    "input1 = {\n",
    "    \"player_name\": \"El\",\n",
    "    \"player_rpname\": \"Elle\",\n",
    "    \"is_evil\": True,\n",
    "    \"background\": Background.Ruh,\n",
    "    \"lodging\": Lodging.Ankers,\n",
    "    \"musical_stat\": 8,\n",
    "    \"ep1\": (FieldName.RHETORICLOGIC, 1),\n",
    "    \"ep2\": (FieldName.LINGUISTICS, 1),\n",
    "    \"inventory\": None\n",
    "}\n",
    "\n",
    "input2 = {\n",
    "    \"player_name\": \"Haelbarde\",\n",
    "    \"player_rpname\": \"Halle\",\n",
    "    \"is_evil\": True,\n",
    "    \"background\": Background.Aturan,\n",
    "    \"lodging\": Lodging.WindyTower,\n",
    "    \"musical_stat\": 5,\n",
    "    \"ep1\": (FieldName.NAMING, 2),\n",
    "    \"ep2\": None,\n",
    "    \"inventory\": None\n",
    "}\n",
    "\n",
    "input3 = {\n",
    "    \"player_name\": \"Wilson\",\n",
    "    \"player_rpname\": \"Will\",\n",
    "    \"is_evil\": False,\n",
    "    \"background\": Background.Ceald,\n",
    "    \"lodging\": Lodging.KingsDrab,\n",
    "    \"musical_stat\": 7,\n",
    "    \"ep1\": (FieldName.ALCHEMY, 1),\n",
    "    \"ep2\": (FieldName.ARTIFICERY, 1),\n",
    "    \"inventory\": ItemType.NAHLROUT\n",
    "}\n",
    "\n",
    "input4 = {\n",
    "    \"player_name\": \"Devotary\",\n",
    "    \"player_rpname\": \"devdev\",\n",
    "    \"is_evil\": False,\n",
    "    \"background\": Background.Yll,\n",
    "    \"lodging\": Lodging.GoldenPony,\n",
    "    \"musical_stat\": 8,\n",
    "    \"ep1\": (FieldName.SYMPATHY, 1),\n",
    "    \"ep2\": (FieldName.PHYSICKING, 1),\n",
    "    \"inventory\": ItemType.BLOODLESS\n",
    "}\n",
    "\n",
    "INPUTS = [input0, input1, input2, input3, input4]"
   ]
  },
  {
   "cell_type": "code",
   "execution_count": null,
   "metadata": {},
   "outputs": [],
   "source": [
    "PLAYERSTATICS = []\n",
    "PLAYERSTATUSES = []\n",
    "# 0 Kas, 1 El, 2 Hael, 3 Wilson, 4 Devo\n",
    "\n",
    "for id, i in INPUTS:\n",
    "    p = PlayerStatic(i.player_name, i.player_rpname, i.is_evil, i.background)\n",
    "    p.id = id\n",
    "    PLAYERSTATICS.append(p)\n",
    "\n",
    "    inventory = []\n",
    "    if i.inventory is not None:\n",
    "        inventory.append(Item.Generate(i.inventory)) # does this work or do you need to do something different bc 2 nahlrout? \n",
    "    ps = PlayerStatus(p, i.lodging, i.musical_stat, inventory)\n",
    "\n",
    "    ps.EP.values[i.ep1[0]] += i.ep1[1]\n",
    "    FIELDS[i.ep1[0]].EP[p] = i.ep1[1]\n",
    "    if i.ep2 is not None:\n",
    "        ps.EP.values[i.ep2[0]] += i.ep2[1]\n",
    "        FIELDS[i.ep2[0]].EP[p] = i.ep2[1]\n",
    "    \n",
    "    PLAYERSTATUSES.append(ps)\n",
    "    \n",
    "# todo create player webpages, GM pages, etc "
   ]
  },
  {
   "cell_type": "code",
   "execution_count": null,
   "metadata": {},
   "outputs": [],
   "source": [
    "PLAYERS = []\n",
    "\n",
    "for i in range(len(PLAYERSTATICS)):\n",
    "    p = Player(PLAYERSTATICS[i], PLAYERSTATUSES[i])\n",
    "    PLAYERS.append(p)\n"
   ]
  },
  {
   "cell_type": "markdown",
   "metadata": {},
   "source": [
    "## Fill In Month 1 Info/Choices"
   ]
  },
  {
   "cell_type": "code",
   "execution_count": null,
   "metadata": {},
   "outputs": [],
   "source": [
    "# Month 1 - players make choices, complaints\n",
    "\n",
    "# create choice objects\n",
    "CHOICESM1 = []\n",
    "for player in PLAYERS:\n",
    "    choice = PlayerChoices(player.info)\n",
    "    CHOICESM1.append(choice)\n",
    "    player.choice = choice\n",
    "\n",
    "# todo get choices from player webpages \n",
    "\n",
    "choices0 = {\n",
    "    \"player\": 0, # id, for now just list index \n",
    "    \"imre_next\": False,\n",
    "    #\"complaints\": [3, 3],\n",
    "    \"actions\": None, # or []?\n",
    "    \"EP\": [FieldName.RHETORICLOGIC, FieldName.RHETORICLOGIC, FieldName.RHETORICLOGIC, FieldName.RHETORICLOGIC, FieldName.RHETORICLOGIC] # todo check appropriate amt somewhere\n",
    "}\n",
    "\n",
    "choices1 = {\n",
    "    \"player\": 1,\n",
    "    \"imre_next\": False,\n",
    "    #\"complaints\": [3, 2],\n",
    "    \"actions\": [{\n",
    "        \"action_type\": ActionType.Sabotage,\n",
    "        \"target\": 4, # is index ok even tho ref varies?\n",
    "        \"target2\": None\n",
    "    }],\n",
    "    \"EP\": [FieldName.ALCHEMY, FieldName.ALCHEMY, FieldName.SYMPATHY, FieldName.SYMPATHY, FieldName.ALCHEMY]\n",
    "}\n",
    "\n",
    "choices2 = {\n",
    "    \"player\": 2,\n",
    "    \"imre_next\": True,\n",
    "    #\"complaints\": [0, 3],\n",
    "    \"actions\": None,\n",
    "    \"EP\": [FieldName.LINGUISTICS, FieldName.LINGUISTICS, FieldName.LINGUISTICS, FieldName.LINGUISTICS, FieldName.LINGUISTICS]\n",
    "}\n",
    "\n",
    "choices3 = {\n",
    "    \"player\": 3,\n",
    "    \"imre_next\": True,\n",
    "    #\"complaints\": [2, 2],\n",
    "    \"actions\": None,\n",
    "    \"EP\": [FieldName.NAMING, FieldName.NAMING, FieldName.NAMING, FieldName.NAMING, FieldName.NAMING]\n",
    "}\n",
    "\n",
    "choices4 = {\n",
    "    \"player\": 4,\n",
    "    \"imre_next\": False,\n",
    "    #\"complaints\": [0, 2],\n",
    "    \"actions\": None,\n",
    "    \"EP\": [FieldName.ALCHEMY, FieldName.ALCHEMY, FieldName.ALCHEMY, FieldName.ALCHEMY, FieldName.ALCHEMY]\n",
    "}\n",
    "\n",
    "CHOICESM1INPUT = [choices0, choices1, choices2, choices3, choices4]"
   ]
  },
  {
   "cell_type": "code",
   "execution_count": null,
   "metadata": {},
   "outputs": [],
   "source": [
    "# fill in choice objects\n",
    "for c in CHOICESM1INPUT:\n",
    "    curr = CHOICESM1[c.player]\n",
    "    curr.imre_next = c.imre_next \n",
    "    curr.EP_filed = c.EP\n",
    "\n",
    "    if c.actions is not None:\n",
    "        for a in c.actions:\n",
    "            act = Action(\"name??\", c.player, a.action_type, a.target, a.target2)\n",
    "            curr.actions.append(act)\n"
   ]
  },
  {
   "cell_type": "code",
   "execution_count": null,
   "metadata": {},
   "outputs": [],
   "source": [
    "# todo get complaints\n",
    "\n",
    "complaints = [\n",
    "    [3,3],\n",
    "    [3,2],\n",
    "    [0,3],\n",
    "    [2,2],\n",
    "    [0,2]\n",
    "]\n",
    "\n",
    "# add complaints into choices\n",
    "for voter in range(len(complaints)): # i guess\n",
    "    choice = CHOICESM1[voter]\n",
    "    voter.complaints = complaints[voter]\n"
   ]
  },
  {
   "cell_type": "code",
   "execution_count": null,
   "metadata": {},
   "outputs": [],
   "source": []
  },
  {
   "cell_type": "code",
   "execution_count": null,
   "metadata": {},
   "outputs": [],
   "source": [
    "# todo get info abt post nums etc\n",
    "\n",
    "# todo input said info (into choices? or statuses? idk)\n",
    "\n",
    "# todo save all choices / statuses to SQL  // make copies\n"
   ]
  },
  {
   "cell_type": "markdown",
   "metadata": {},
   "source": [
    "## Run Month 1"
   ]
  },
  {
   "cell_type": "code",
   "execution_count": null,
   "metadata": {},
   "outputs": [],
   "source": [
    "# store stuff in sql"
   ]
  },
  {
   "cell_type": "code",
   "execution_count": null,
   "metadata": {},
   "outputs": [],
   "source": [
    "next_statuses = []\n",
    "ACTIONS = []\n",
    "for p in PLAYERS:\n",
    "    np = p.status.copy()\n",
    "    next_statuses.append(np)\n",
    "    p.next_status = np\n",
    "    for a in p.choice.actions:\n",
    "        ACTIONS.append(a)"
   ]
  },
  {
   "cell_type": "code",
   "execution_count": null,
   "metadata": {},
   "outputs": [],
   "source": [
    "\n",
    "# input is PLAYERS (Player list) and something like GMINPUT\n",
    "# possibly also actions list? idk\n",
    "\n",
    "GMINPUT = {} # TODO\n",
    "\n",
    "if GMINPUT.month % 3 == 0:\n",
    "    # GIVE STIPENDS\n",
    "    for p in PLAYERS:\n",
    "        p.next_status.money += p.status.stipend \n",
    "\n",
    "    # DO TUITION STUFF\n",
    "\n",
    "    # DO LODGING STUFF\n"
   ]
  },
  {
   "cell_type": "code",
   "execution_count": null,
   "metadata": {},
   "outputs": [],
   "source": [
    "# Passive Protects - checked during offensive actions\n",
    "\n",
    "\n",
    "\n",
    "# Passive roleblocks\n",
    "\n",
    "# homecoming \n",
    "for p in PLAYERS:\n",
    "    roll = random.randrange(0,100)\n",
    "    if p.info.social_class == Background.Vint and roll < 25:\n",
    "        p.processing.is_blocked = True\n",
    "        p.processing.can_be_targeted = False\n",
    "    elif p.info.social_class == Background.Aturan and roll < 10:\n",
    "        p.processing.is_blocked = True\n",
    "        p.processing.can_be_targeted = False\n",
    "    \n",
    "    if p.next_status.lodging == Lodging.Streets and roll < 50:\n",
    "        p.processing.is_blocked = True \n",
    "    elif p.next_status.lodging == Lodging.Ankers and roll < 15:\n",
    "        action_blocked = random.choice(p.choice.actions)\n",
    "        action_blocked.blocked = True\n",
    "\n"
   ]
  },
  {
   "cell_type": "markdown",
   "metadata": {},
   "source": [
    "## Action-affecting stuff (roleblocks & redirects)\n",
    "\n",
    "In progress / unfinished / not really working on so probably wonky."
   ]
  },
  {
   "cell_type": "code",
   "execution_count": null,
   "metadata": {},
   "outputs": [],
   "source": [
    "# Mommets"
   ]
  },
  {
   "cell_type": "code",
   "execution_count": null,
   "metadata": {},
   "outputs": [],
   "source": [
    "# law of contraposition\n",
    "\n",
    "# this is bad, just have the first target be an Action and whatever\n",
    "master_rhetoricist = FIELDS[FieldName.RHETORICLOGIC].master \n",
    "if master_rhetoricist is not None: \n",
    "    if not master_rhetoricist.processing.is_blocked:\n",
    "        for a in master_rhetoricist.choice.actions:\n",
    "            if a.type == ActionType.LawOfContraposition and not a.blocked:\n",
    "                if a.target.processing.can_be_targeted and a.target_two.processing.can_be_targeted: \n",
    "                    # do something\n",
    "                    target_action = a.target_three\n",
    "\n",
    "                    if not target_action.blocked and target_action.target is not None:\n",
    "                        target_action.target = a.target_two\n",
    "\n",
    "                else:\n",
    "                    a.successful = False\n",
    "\n",
    "# somewhere around here check the item creation single-turn thing"
   ]
  },
  {
   "cell_type": "code",
   "execution_count": null,
   "metadata": {},
   "outputs": [],
   "source": [
    "\n",
    "\n",
    "# malfeasance protection (master)\n",
    "for p in PLAYERS:\n",
    "    for a in p.choice.actions:\n",
    "        if a.type == ActionType.MalfeasanceProtection and a.level == 4:\n",
    "            p.processing.transfer_neg_actions_to = a.target\n"
   ]
  },
  {
   "cell_type": "code",
   "execution_count": null,
   "metadata": {},
   "outputs": [],
   "source": [
    "# this goes elsewhere because it's a next-turn thing now\n",
    "# medica emergency\n",
    "for p in PLAYERS: \n",
    "    # could maybe narrow to ppl with Phys elevations? but eh\n",
    "\n",
    "    for a in p.choice.actions:\n",
    "        if a.type == ActionType.MedicaEmergency:\n",
    "            if p.processing.is_blocked or p.status.in_Imre:\n",
    "                print(\"can't take action!\")\n",
    "                continue\n",
    "            # ehhhhh\n",
    "            level = a.level \n",
    "            level2 = p.status.elevations.count(FieldName.PHYSICKING)\n",
    "            if p.status.master_of == FieldName.PHYSICKING:\n",
    "                level2 = 4\n",
    "            \n",
    "            if level != level2:\n",
    "                print(\"problems! \")\n",
    "            \n",
    "            p.processing.can_be_targeted = False \n",
    "\n",
    "            if level == 1 or level == 2:\n",
    "                p.processing.can_file_complaints = False\n",
    "            \n",
    "            for act in p.choice.actions:\n",
    "                if act.type != ActionType.MedicaEmergency:\n",
    "                    if level != 4:\n",
    "                        act.blocked = True\n",
    "                    \n",
    "                    # if master\n",
    "                    # TODO (this is bad)\n",
    "                    elif act.type != ActionType.MedicaDetainment or act.type != ActionType.PsychologicalCounselling or act.type != ActionType.CheatingDeath:\n",
    "                        act.blocked = True\n",
    "            \n",
    "\n",
    "            \n",
    "\n",
    "\n",
    "\n",
    "# malfeasance III\n",
    "\n"
   ]
  },
  {
   "cell_type": "code",
   "execution_count": null,
   "metadata": {},
   "outputs": [],
   "source": [
    "# action roleblocks"
   ]
  },
  {
   "cell_type": "code",
   "execution_count": null,
   "metadata": {},
   "outputs": [],
   "source": []
  },
  {
   "cell_type": "markdown",
   "metadata": {},
   "source": [
    "## Other Actions"
   ]
  },
  {
   "cell_type": "code",
   "execution_count": null,
   "metadata": {},
   "outputs": [],
   "source": [
    "# stuff\n",
    "\n",
    "for action in ACTIONS:\n",
    "    if action.category == ActionCategory.OTHER:\n",
    "        if action.blocked:\n",
    "            # idk\n",
    "            print(\"blocked\")\n",
    "        else:\n",
    "            \n"
   ]
  },
  {
   "cell_type": "markdown",
   "metadata": {},
   "source": [
    "## GM / field / procedural things\n",
    "DP, Horns, expulsions, elevations, IP, EP, breakout roll"
   ]
  },
  {
   "cell_type": "code",
   "execution_count": null,
   "metadata": {},
   "outputs": [],
   "source": [
    "## Offens"
   ]
  },
  {
   "cell_type": "markdown",
   "metadata": {},
   "source": [
    "## Offensive Actions"
   ]
  },
  {
   "cell_type": "code",
   "execution_count": null,
   "metadata": {},
   "outputs": [],
   "source": [
    "# offensive actions \n",
    "\n",
    "# check if attacked player is @ H&4\n",
    "# other passive protects"
   ]
  },
  {
   "cell_type": "markdown",
   "metadata": {},
   "source": [
    "## Other actions / misc? "
   ]
  },
  {
   "cell_type": "code",
   "execution_count": null,
   "metadata": {},
   "outputs": [],
   "source": [
    "# using ward, maybe? Kinda? \n",
    "# Probably doesn't actually make a difference, you can look at the full list of actions once blocks are handled and include kills without actually processing them"
   ]
  },
  {
   "cell_type": "markdown",
   "metadata": {},
   "source": [
    "## Saving / Logging / GM Input"
   ]
  },
  {
   "cell_type": "code",
   "execution_count": null,
   "metadata": {},
   "outputs": [],
   "source": [
    "# no idea"
   ]
  },
  {
   "cell_type": "markdown",
   "metadata": {},
   "source": []
  }
 ],
 "metadata": {
  "language_info": {
   "name": "python"
  },
  "orig_nbformat": 4
 },
 "nbformat": 4,
 "nbformat_minor": 2
}
