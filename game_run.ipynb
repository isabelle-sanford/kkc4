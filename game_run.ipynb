{
 "cells": [
  {
   "cell_type": "code",
   "execution_count": 1,
   "metadata": {},
   "outputs": [],
   "source": [
    "\n",
    "\n",
    "from statics import Background, Lodging\n",
    "from field import FieldName, FieldStatus, FIELDS\n",
    "from items import ItemType, Item\n",
    "from actions import ActionType, Action, ActionCategory\n",
    "from player import PlayerStatic, PlayerStatus, PlayerChoices, PlayerProcessing, Player\n",
    "import random\n",
    "from horns import Horns\n",
    "from outcome import ProcessLog, Result"
   ]
  },
  {
   "cell_type": "code",
   "execution_count": null,
   "metadata": {},
   "outputs": [],
   "source": []
  },
  {
   "cell_type": "code",
   "execution_count": 2,
   "metadata": {},
   "outputs": [],
   "source": [
    "# Player Initialization\n",
    "\n",
    "# todo get inputs from html page \n",
    "\n",
    "input0 = {\n",
    "    \"player_name\": \"Kas\",\n",
    "    \"player_rpname\": \"Khas\",\n",
    "    \"is_evil\": False,\n",
    "    \"background\": Background.Vint,\n",
    "    \"lodging\": Lodging.HorseAndFour,\n",
    "    \"musical_stat\": 12,\n",
    "    \"ep1\": (FieldName.RHETORICLOGIC, 7),\n",
    "    \"ep2\": None,\n",
    "    \"inventory\": None\n",
    "}\n",
    "\n",
    "input1 = {\n",
    "    \"player_name\": \"El\",\n",
    "    \"player_rpname\": \"Elle\",\n",
    "    \"is_evil\": True,\n",
    "    \"background\": Background.Ruh,\n",
    "    \"lodging\": Lodging.Ankers,\n",
    "    \"musical_stat\": 8,\n",
    "    \"ep1\": (FieldName.RHETORICLOGIC, 1),\n",
    "    \"ep2\": (FieldName.LINGUISTICS, 1),\n",
    "    \"inventory\": None\n",
    "}\n",
    "\n",
    "input2 = {\n",
    "    \"player_name\": \"Haelbarde\",\n",
    "    \"player_rpname\": \"Halle\",\n",
    "    \"is_evil\": True,\n",
    "    \"background\": Background.Aturan,\n",
    "    \"lodging\": Lodging.WindyTower,\n",
    "    \"musical_stat\": 5,\n",
    "    \"ep1\": (FieldName.NAMING, 2),\n",
    "    \"ep2\": None,\n",
    "    \"inventory\": None\n",
    "}\n",
    "\n",
    "input3 = {\n",
    "    \"player_name\": \"Wilson\",\n",
    "    \"player_rpname\": \"Will\",\n",
    "    \"is_evil\": False,\n",
    "    \"background\": Background.Ceald,\n",
    "    \"lodging\": Lodging.KingsDrab,\n",
    "    \"musical_stat\": 7,\n",
    "    \"ep1\": (FieldName.ALCHEMY, 1),\n",
    "    \"ep2\": (FieldName.ARTIFICERY, 1),\n",
    "    \"inventory\": ItemType.NAHLROUT\n",
    "}\n",
    "\n",
    "input4 = {\n",
    "    \"player_name\": \"Devotary\",\n",
    "    \"player_rpname\": \"devdev\",\n",
    "    \"is_evil\": False,\n",
    "    \"background\": Background.Yll,\n",
    "    \"lodging\": Lodging.GoldenPony,\n",
    "    \"musical_stat\": 8,\n",
    "    \"ep1\": (FieldName.SYMPATHY, 1),\n",
    "    \"ep2\": (FieldName.PHYSICKING, 1),\n",
    "    \"inventory\": ItemType.BLOODLESS\n",
    "}\n",
    "\n",
    "INPUTS = [input0, input1, input2, input3, input4]"
   ]
  },
  {
   "cell_type": "code",
   "execution_count": 3,
   "metadata": {},
   "outputs": [
    {
     "name": "stdout",
     "output_type": "stream",
     "text": [
      "Kas\n",
      "El\n",
      "Haelbarde\n",
      "Wilson\n",
      "Devotary\n"
     ]
    }
   ],
   "source": [
    "PLAYERSTATICS = []\n",
    "PLAYERSTATUSES = []\n",
    "# 0 Kas, 1 El, 2 Hael, 3 Wilson, 4 Devo\n",
    "\n",
    "for id, i in enumerate(INPUTS):\n",
    "    p = PlayerStatic(i[\"player_name\"], i[\"player_rpname\"], i[\"is_evil\"], i[\"background\"])\n",
    "    p.id = id\n",
    "    PLAYERSTATICS.append(p)\n",
    "    print(i[\"player_name\"])\n",
    "\n",
    "    inventory = []\n",
    "    if i[\"inventory\"] is not None:\n",
    "        inventory.append(Item.Generate(i[\"inventory\"])) # does this work or do you need to do something different bc 2 nahlrout? \n",
    "    ps = PlayerStatus.distro_init(p, i[\"lodging\"], i[\"musical_stat\"], inventory)\n",
    "\n",
    "    ps.EP.values[i[\"ep1\"][0]] += i[\"ep1\"][1]\n",
    "    FIELDS[i[\"ep1\"][0]].EP[p] = i[\"ep1\"][1]\n",
    "\n",
    "    \n",
    "    if i[\"ep2\"] is not None:\n",
    "        ps.EP.values[i[\"ep2\"][0]] += i[\"ep2\"][1]\n",
    "        FIELDS[i[\"ep2\"][0]].EP[p] = i[\"ep2\"][1]\n",
    "    \n",
    "    PLAYERSTATUSES.append(ps)\n",
    "    \n",
    "# todo create player webpages, GM pages, etc "
   ]
  },
  {
   "cell_type": "code",
   "execution_count": 4,
   "metadata": {},
   "outputs": [],
   "source": [
    "PLAYERS = []\n",
    "\n",
    "for i in range(len(PLAYERSTATICS)):\n",
    "    p = Player(PLAYERSTATICS[i], PLAYERSTATUSES[i])\n",
    "    PLAYERS.append(p)\n"
   ]
  },
  {
   "cell_type": "markdown",
   "metadata": {},
   "source": [
    "## Fill In Month 1 Info/Choices"
   ]
  },
  {
   "cell_type": "code",
   "execution_count": 5,
   "metadata": {},
   "outputs": [],
   "source": [
    "# Month 1 - players make choices, complaints\n",
    "\n",
    "# create choice objects\n",
    "CHOICESM1 = []\n",
    "for player in PLAYERS:\n",
    "    choice = PlayerChoices(player.info)\n",
    "    CHOICESM1.append(choice)\n",
    "    player.choice = choice\n",
    "\n",
    "# todo get choices from player webpages \n",
    "\n",
    "choices0 = {\n",
    "    \"player\": 0, # id, for now just list index \n",
    "    \"imre_next\": False,\n",
    "    #\"complaints\": [3, 3],\n",
    "    \"actions\": None, # or []?\n",
    "    \"EP\": [FieldName.RHETORICLOGIC, FieldName.RHETORICLOGIC, FieldName.RHETORICLOGIC, FieldName.RHETORICLOGIC, FieldName.RHETORICLOGIC] # todo check appropriate amt somewhere\n",
    "}\n",
    "\n",
    "choices1 = {\n",
    "    \"player\": 1,\n",
    "    \"imre_next\": False,\n",
    "    #\"complaints\": [3, 2],\n",
    "    \"actions\": [{\n",
    "        \"action_type\": ActionType.Sabotage,\n",
    "        \"target\": 4, # is index ok even tho ref varies?\n",
    "        \"target2\": None\n",
    "    }],\n",
    "    \"EP\": [FieldName.ALCHEMY, FieldName.ALCHEMY, FieldName.SYMPATHY, FieldName.SYMPATHY, FieldName.ALCHEMY]\n",
    "}\n",
    "\n",
    "choices2 = {\n",
    "    \"player\": 2,\n",
    "    \"imre_next\": True,\n",
    "    #\"complaints\": [0, 3],\n",
    "    \"actions\": None,\n",
    "    \"EP\": [FieldName.LINGUISTICS, FieldName.LINGUISTICS, FieldName.LINGUISTICS, FieldName.LINGUISTICS, FieldName.LINGUISTICS]\n",
    "}\n",
    "\n",
    "choices3 = {\n",
    "    \"player\": 3,\n",
    "    \"imre_next\": True,\n",
    "    #\"complaints\": [2, 2],\n",
    "    \"actions\": None,\n",
    "    \"EP\": [FieldName.NAMING, FieldName.NAMING, FieldName.NAMING, FieldName.NAMING, FieldName.NAMING]\n",
    "}\n",
    "\n",
    "choices4 = {\n",
    "    \"player\": 4,\n",
    "    \"imre_next\": False,\n",
    "    #\"complaints\": [0, 2],\n",
    "    \"actions\": None,\n",
    "    \"EP\": [FieldName.ALCHEMY, FieldName.ALCHEMY, FieldName.ALCHEMY, FieldName.ALCHEMY, FieldName.ALCHEMY]\n",
    "}\n",
    "\n",
    "CHOICESM1INPUT = [choices0, choices1, choices2, choices3, choices4]"
   ]
  },
  {
   "cell_type": "code",
   "execution_count": 6,
   "metadata": {},
   "outputs": [],
   "source": [
    "# fill in choice objects\n",
    "# (make a func for this)\n",
    "for c in CHOICESM1INPUT:\n",
    "    curr = CHOICESM1[c[\"player\"]]\n",
    "    curr.imre_next = c[\"imre_next\"]\n",
    "    curr.EP_filed = c[\"EP\"]\n",
    "\n",
    "    if c[\"actions\"] is not None:\n",
    "        for a in c[\"actions\"]:\n",
    "            act = Action(c[\"player\"], a[\"action_type\"], a[\"target\"], a[\"target2\"])\n",
    "            curr.actions.append(act)\n"
   ]
  },
  {
   "cell_type": "code",
   "execution_count": 7,
   "metadata": {},
   "outputs": [],
   "source": [
    "# todo get complaints\n",
    "\n",
    "complaints = [\n",
    "    [3,3],\n",
    "    [3,2],\n",
    "    [0,3],\n",
    "    [2,2],\n",
    "    [0,2]\n",
    "]\n",
    "\n",
    "# add complaints into choices\n",
    "for voter in range(len(complaints)): # i guess\n",
    "    choice = CHOICESM1[voter]\n",
    "    choice.complaints = complaints[voter]\n"
   ]
  },
  {
   "cell_type": "code",
   "execution_count": null,
   "metadata": {},
   "outputs": [],
   "source": []
  },
  {
   "cell_type": "code",
   "execution_count": 8,
   "metadata": {},
   "outputs": [],
   "source": [
    "# todo get info abt post nums etc\n",
    "\n",
    "# todo input said info (into choices? or statuses? idk)\n",
    "\n",
    "# todo save all choices / statuses to SQL  // make copies\n"
   ]
  },
  {
   "cell_type": "markdown",
   "metadata": {},
   "source": [
    "## Run Month 1"
   ]
  },
  {
   "cell_type": "code",
   "execution_count": 9,
   "metadata": {},
   "outputs": [],
   "source": [
    "# store stuff in sql\n",
    "\n",
    "process = ProcessLog(0)"
   ]
  },
  {
   "cell_type": "code",
   "execution_count": 10,
   "metadata": {},
   "outputs": [],
   "source": [
    "import copy\n",
    "\n",
    "next_statuses = []\n",
    "ACTIONS = []\n",
    "for p in PLAYERS:\n",
    "    np = copy.deepcopy(p.status)\n",
    "    next_statuses.append(np)\n",
    "    p.initial_status = p.status\n",
    "    p.status = np\n",
    "    for a in p.choice.actions:\n",
    "        ACTIONS.append(a)\n",
    "\n",
    "# also update field_statuses here?"
   ]
  },
  {
   "cell_type": "code",
   "execution_count": 11,
   "metadata": {},
   "outputs": [],
   "source": [
    "\n",
    "# input is PLAYERS (Player list) and something like GMINPUT\n",
    "# possibly also actions list? idk\n",
    "\n",
    "GMINPUT = {\n",
    "    \"month\": 0\n",
    "} # TODO\n",
    "\n",
    "if GMINPUT[\"month\"] % 3 == 0 and GMINPUT[\"month\"] > 0:\n",
    "    # GIVE STIPENDS\n",
    "    for p in PLAYERS:\n",
    "        p.status.money += p.initial_status.stipend \n",
    "\n",
    "    # DO TUITION STUFF\n",
    "\n",
    "    # DO LODGING STUFF\n",
    "        # remember to adjust available_EP\n"
   ]
  },
  {
   "cell_type": "code",
   "execution_count": 12,
   "metadata": {},
   "outputs": [],
   "source": [
    "# Passive Protects - checked during offensive actions\n",
    "\n",
    "\n",
    "\n",
    "# Passive roleblocks\n",
    "\n",
    "# homecoming \n",
    "for p in PLAYERS:\n",
    "    roll = random.randrange(0,100)\n",
    "    if p.info.social_class == Background.Vint and roll < 25:\n",
    "        p.processing.is_blocked = True\n",
    "        p.processing.can_be_targeted = False\n",
    "    elif p.info.social_class == Background.Aturan and roll < 10:\n",
    "        p.processing.is_blocked = True\n",
    "        p.processing.can_be_targeted = False\n",
    "\n",
    "    # no, wait, that's gotta be per action\n",
    "    if p.status.lodging == Lodging.Streets and roll < 50:\n",
    "        p.processing.is_blocked = True \n",
    "    elif p.status.lodging == Lodging.Ankers and roll < 15:\n",
    "        action_blocked = random.choice(p.choice.actions)\n",
    "        action_blocked.blocked = True\n",
    "        action_blocked.block_reasoning += \"Ankers\"\n",
    "\n",
    "\n",
    "# make sure to update prev turn stuff like medica_emergency"
   ]
  },
  {
   "cell_type": "markdown",
   "metadata": {},
   "source": [
    "## Action-affecting stuff (roleblocks & redirects)\n",
    "\n",
    "In progress / unfinished / not really working on so probably wonky."
   ]
  },
  {
   "cell_type": "code",
   "execution_count": 13,
   "metadata": {},
   "outputs": [],
   "source": [
    "# Mommets"
   ]
  },
  {
   "cell_type": "code",
   "execution_count": 14,
   "metadata": {},
   "outputs": [],
   "source": [
    "# law of contraposition\n",
    "\n",
    "# this is bad, just have the first target be an Action and whatever\n",
    "master_rhetoricist = FIELDS[FieldName.RHETORICLOGIC].master \n",
    "if master_rhetoricist is not None: \n",
    "    if not master_rhetoricist.processing.is_blocked:\n",
    "        for a in master_rhetoricist.choices.actions:\n",
    "            if a.type == ActionType.LawOfContraposition and not a.blocked:\n",
    "                if a.target.processing.can_be_targeted and a.target_two.processing.can_be_targeted: \n",
    "                    # do something\n",
    "                    target_action = a.target_three\n",
    "\n",
    "                    if not target_action.blocked and target_action.target is not None:\n",
    "                        target_action.target = a.target_two\n",
    "\n",
    "                else:\n",
    "                    a.successful = False\n",
    "\n",
    "# somewhere around here check the item creation single-turn thing"
   ]
  },
  {
   "cell_type": "code",
   "execution_count": 15,
   "metadata": {},
   "outputs": [],
   "source": [
    "# somewhere up here need to include the plum bob rage roleblock thing\n",
    "\n",
    "# malfeasance protection (master)\n",
    "for p in PLAYERS:\n",
    "    for a in p.choice.actions:\n",
    "        if a.type == ActionType.MalfeasanceProtection and a.level == 4:\n",
    "            p.processing.transfer_neg_actions_to = a.target\n"
   ]
  },
  {
   "cell_type": "code",
   "execution_count": 16,
   "metadata": {},
   "outputs": [],
   "source": [
    "# this goes elsewhere because it's a next-turn thing now\n",
    "# medica emergency\n",
    "for p in PLAYERS: \n",
    "    # could maybe narrow to ppl with Phys elevations? but eh\n",
    "\n",
    "    for a in p.choices.actions:\n",
    "        if a.type == ActionType.MedicaEmergency:\n",
    "            if p.processing.is_blocked or p.status.in_Imre:\n",
    "                print(\"can't take action!\")\n",
    "                continue\n",
    "            # ehhhhh\n",
    "            level = a.level \n",
    "            level2 = p.level_in(FieldName.PHYSICKING)\n",
    "            \n",
    "            if level != level2:\n",
    "                print(\"problems! \")\n",
    "            \n",
    "            p.processing.can_be_targeted = False \n",
    "\n",
    "            if level == 1 or level == 2:\n",
    "                p.processing.can_file_complaints = False\n",
    "            \n",
    "            for act in p.choices.actions:\n",
    "                if act.type != ActionType.MedicaEmergency:\n",
    "                    if level != 4:\n",
    "                        act.blocked = True\n",
    "                    \n",
    "                    # if master\n",
    "                    # TODO (this is bad)\n",
    "                    elif act.type != ActionType.MedicaDetainment or act.type != ActionType.PsychologicalCounselling or act.type != ActionType.CheatingDeath:\n",
    "                        act.blocked = True\n",
    "            \n",
    "\n",
    "            \n",
    "\n",
    "\n",
    "\n",
    "# malfeasance III\n",
    "\n"
   ]
  },
  {
   "cell_type": "code",
   "execution_count": 17,
   "metadata": {},
   "outputs": [],
   "source": [
    "# action roleblocks"
   ]
  },
  {
   "cell_type": "code",
   "execution_count": null,
   "metadata": {},
   "outputs": [],
   "source": []
  },
  {
   "cell_type": "markdown",
   "metadata": {},
   "source": [
    "## Other Actions"
   ]
  },
  {
   "cell_type": "code",
   "execution_count": 18,
   "metadata": {},
   "outputs": [],
   "source": [
    "# maybe preprocess here to get insanity bonuses, \n",
    "# list of who's targeting each player,\n",
    "# ? "
   ]
  },
  {
   "cell_type": "code",
   "execution_count": 19,
   "metadata": {},
   "outputs": [],
   "source": [
    "# stuff\n",
    "\n",
    "for action in ACTIONS:\n",
    "    if action.category == ActionCategory.OTHER:\n",
    "        if action.blocked:\n",
    "            # idk\n",
    "            print(\"blocked\")\n",
    "        else:\n",
    "            # check that target is targetable? \n",
    "\n",
    "            action.perform()\n",
    "            \n"
   ]
  },
  {
   "cell_type": "markdown",
   "metadata": {},
   "source": [
    "## GM / field / procedural things\n",
    "DP, Horns, expulsions, elevations, IP, EP, breakout roll\n",
    "\n",
    "really gotta remember to do all the tuition inflation/reduction stuff somewhere"
   ]
  },
  {
   "cell_type": "code",
   "execution_count": 20,
   "metadata": {},
   "outputs": [
    {
     "name": "stdout",
     "output_type": "stream",
     "text": [
      "RunHorns()...\n",
      "RunHorns()... Done!\n"
     ]
    }
   ],
   "source": [
    "horns = Horns()\n",
    "horns.run_horns()"
   ]
  },
  {
   "cell_type": "code",
   "execution_count": 23,
   "metadata": {},
   "outputs": [
    {
     "name": "stdout",
     "output_type": "stream",
     "text": [
      "EP list for 0 is [[<player.PlayerStatic object at 0x7f3e980f9c10>]]\n",
      "EP list for 1 is []\n",
      "EP list for 2 is [[<player.PlayerStatic object at 0x7f3e980f9af0>, <player.PlayerStatic object at 0x7f3e980f9af0>, <player.PlayerStatic object at 0x7f3e980f9af0>, <player.PlayerStatic object at 0x7f3e980f9af0>, <player.PlayerStatic object at 0x7f3e980f9af0>, <player.PlayerStatic object at 0x7f3e980f9af0>, <player.PlayerStatic object at 0x7f3e980f9af0>], [<player.PlayerStatic object at 0x7f3e980f9c10>]]\n",
      "EP list for 3 is []\n",
      "EP list for 4 is [[<player.PlayerStatic object at 0x7f3e980e7190>]]\n",
      "EP list for 4 is [[<player.PlayerStatic object at 0x7f3e980e7190>]]\n",
      "EP list for 6 is [[<player.PlayerStatic object at 0x7f3e980f9f70>]]\n",
      "EP list for 7 is [[<player.PlayerStatic object at 0x7f3e980f9f70>]]\n",
      "EP list for 8 is [[<player.PlayerStatic object at 0x7f3e980f9dc0>, <player.PlayerStatic object at 0x7f3e980f9dc0>]]\n",
      "<player.Player object at 0x7f3e98202340>\n",
      "<player.Player object at 0x7f3e982027c0>\n",
      "<player.Player object at 0x7f3e981dd8b0>\n",
      "<player.Player object at 0x7f3e981dd8b0>\n",
      "<player.Player object at 0x7f3e98202550>\n",
      "<player.Player object at 0x7f3e98202550>\n",
      "<player.Player object at 0x7f3e982029a0>\n"
     ]
    }
   ],
   "source": [
    "# elevations\n",
    "# make this a function pls\n",
    "\n",
    "to_elevate = []\n",
    "for f in FIELDS:\n",
    "    if f.master is not None:\n",
    "        if len(f.master.choices.to_elevate) > 0:\n",
    "            # check master can elevate?\n",
    "            to_elevate.append(f.master.choices.to_elevate[0])\n",
    "            f.elevating = f.master.choices.to_elevate[0]\n",
    "\n",
    "        # else add tuition inflation? \n",
    "    else:\n",
    "        l = f.get_EP_list()\n",
    "        if len(l) > 0:\n",
    "\n",
    "            npc_choice = random.choice(l)\n",
    "            to_elevate.append(npc_choice) \n",
    "            f.elevating = npc_choice\n",
    "    \n",
    "# TODO: recurse until there aren't any duplicates\n",
    "\n",
    "# once elevations are set\n",
    "for f in FIELDS:\n",
    "    if f.elevating is None:\n",
    "        continue\n",
    "    p = PLAYERS[f.elevating[0].id] # why is this a list tho\n",
    "\n",
    "    # this is definitely not the way to do this\n",
    "    # also does NOT include master elevations atm\n",
    "    if p in f.elevatedOnce:\n",
    "        f.elevatedOnce.remove(p)\n",
    "        f.elevatedTwice.append(p)\n",
    "    elif p in f.elevatedTwice:\n",
    "        f.elevatedTwice.remove(p)\n",
    "        f.elevatedThrice.append(p)\n",
    "    else:\n",
    "        f.elevatedOnce.append(p)\n",
    "\n",
    "    print(p)\n",
    "    p.elevate_in(f.name)\n",
    "    # todo: add accessible actions\n",
    "\n",
    "# master-level elevation TODO"
   ]
  },
  {
   "cell_type": "code",
   "execution_count": null,
   "metadata": {},
   "outputs": [],
   "source": [
    "# IP Offsetting"
   ]
  },
  {
   "cell_type": "code",
   "execution_count": 24,
   "metadata": {},
   "outputs": [],
   "source": [
    "# EP filing\n",
    "\n",
    "for p in PLAYERS:\n",
    "    if p.status.can_file_EP and len(p.choice.filing_EP) > 0:\n",
    "        # todo make sure it's the right amt of EP\n",
    "\n",
    "        for e in p.choice.filing_EP:\n",
    "            p.status.EP[e] += 1\n",
    "\n",
    "# I think that's all that's needed here?"
   ]
  },
  {
   "cell_type": "code",
   "execution_count": 26,
   "metadata": {},
   "outputs": [],
   "source": [
    "# breakout roll\n",
    "\n",
    "for p in PLAYERS:\n",
    "    if not p.initial_status.is_sane and p.initial_status.is_alive:\n",
    "        roll = random.randint(1,20)\n",
    "        if len(p.known_names) >= 5:\n",
    "            roll = random.randint(1,10)\n",
    "        \n",
    "        if roll == 1:\n",
    "            print(f\"{p.name} broke out !!!\")\n",
    "            p.status.is_sane = True \n",
    "            # todo break_out() func \n",
    "\n"
   ]
  },
  {
   "cell_type": "markdown",
   "metadata": {},
   "source": [
    "## Offensive Actions"
   ]
  },
  {
   "cell_type": "code",
   "execution_count": null,
   "metadata": {},
   "outputs": [],
   "source": [
    "# offensive actions \n",
    "\n",
    "# check if attacked player is @ H&4\n",
    "# other passive protects"
   ]
  },
  {
   "cell_type": "markdown",
   "metadata": {},
   "source": [
    "## Other actions / misc? "
   ]
  },
  {
   "cell_type": "code",
   "execution_count": null,
   "metadata": {},
   "outputs": [],
   "source": [
    "# using ward, maybe? Kinda? \n",
    "# Probably doesn't actually make a difference, you can look at the full list of actions once blocks are handled and include kills without actually processing them"
   ]
  },
  {
   "cell_type": "markdown",
   "metadata": {},
   "source": [
    "## Saving / Logging / GM Input"
   ]
  },
  {
   "cell_type": "markdown",
   "metadata": {},
   "source": []
  },
  {
   "cell_type": "code",
   "execution_count": null,
   "metadata": {},
   "outputs": [],
   "source": [
    "# no idea"
   ]
  },
  {
   "cell_type": "markdown",
   "metadata": {},
   "source": []
  }
 ],
 "metadata": {
  "kernelspec": {
   "display_name": "Python 3",
   "language": "python",
   "name": "python3"
  },
  "language_info": {
   "codemirror_mode": {
    "name": "ipython",
    "version": 3
   },
   "file_extension": ".py",
   "mimetype": "text/x-python",
   "name": "python",
   "nbconvert_exporter": "python",
   "pygments_lexer": "ipython3",
   "version": "3.8.10"
  },
  "orig_nbformat": 4
 },
 "nbformat": 4,
 "nbformat_minor": 2
}
